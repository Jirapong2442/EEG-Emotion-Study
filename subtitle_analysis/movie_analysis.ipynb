{
 "cells": [
  {
   "cell_type": "markdown",
   "metadata": {},
   "source": [
    "# sentence reconstruction from srt file"
   ]
  },
  {
   "cell_type": "code",
   "execution_count": 286,
   "metadata": {},
   "outputs": [],
   "source": [
    "import numpy as np\n",
    "import pandas as pd\n",
    "import re"
   ]
  },
  {
   "cell_type": "code",
   "execution_count": 287,
   "metadata": {},
   "outputs": [],
   "source": [
    "#path = \"C:/Users/NA/Saved Games/eeg_study/modified_500_days_of_summer_subtitle.srt\"\n",
    "path = \"C:/Users/NA/Saved Games/eeg_study/subtitle_all/pulp_fiction_subtitle.srt\"\n",
    "#path = \"C:/Users/NA/Saved Games/eeg_study/subtitle_all/the_usual_suspects_subtitle.srt\"\n",
    "with open(path, \"r\", encoding='utf-8-sig') as f:\n",
    "    string = f.read()\n",
    "    lines = string.split(\"\\n\")\n",
    "    time_arr = []\n",
    "    subtitles = []\n",
    "    first_text = True\n",
    "    continueable = False\n",
    "    for line in lines:\n",
    "        if (len(line) < 5 and line.isdigit()) or len(line) == 0:\n",
    "            continue\n",
    "            \n",
    "        if \" --> \" not in line:\n",
    "            text = line.strip()\n",
    "            if continueable : # add subtitle with ... place holder of differnt time annotation\n",
    "                last_subtitles = subtitles[-1]\n",
    "                subtitles.pop()\n",
    "                subtitles.append((last_subtitles + \" \" + text))\n",
    "\n",
    "                last_time = time_arr[-2]\n",
    "                time_arr.pop()\n",
    "                time_arr.pop()\n",
    "                time_arr.append((last_time[0], end_time))\n",
    "                continueable = False\n",
    "                first_text = False \n",
    "\n",
    "            else:\n",
    "                if \"...\" in line and not first_text:\n",
    "                    text = text.replace(\"...\", \"\")\n",
    "                    continueable = True\n",
    "                elif \"...\" in line and first_text: # add this to skip the continuable if \"\"...\" presence only in the line\n",
    "                    text = text.replace(\"...\", \"\")\n",
    "                    \n",
    "                if first_text  :\n",
    "                    subtitles.append(text)\n",
    "                    first_text = False\n",
    "                else: # add subtitle between line of the same time annotation\n",
    "                    last_subtitles = subtitles[-1]\n",
    "                    subtitles.pop()\n",
    "                    subtitles.append((last_subtitles + \" \" + text))\n",
    "\n",
    "            # to clean data with only time/subtitle\n",
    "            if len(subtitles) != len(time_arr):\n",
    "                print(text) \n",
    "                print(start_time)\n",
    "                print(f\"len subtitle is {len(subtitles)}\")\n",
    "                print(f\"len time ios {len(time_arr)}\")\n",
    "\n",
    "        else:\n",
    "            first_text = True\n",
    "            time = line.split(\" --> \")\n",
    "            start = time[0].split(\",\")[0].split(\":\")\n",
    "            end = time[1].split(\",\")[0].split(\":\")\n",
    "            start_ms = time[0].split(\",\")[1]\n",
    "            end_ms = time[1].split(\",\")[1]\n",
    "            start_time = int(start[0]) * 3600 + int(start[1]) * 60 + float(start[2]) + float(start_ms) / 1000\n",
    "            end_time = int(end[0]) * 3600 + int(end[1]) * 60 + float(end[2]) + float(end_ms) / 1000\n",
    "            time_arr.append((start_time, end_time))\n",
    "    "
   ]
  },
  {
   "cell_type": "code",
   "execution_count": 288,
   "metadata": {},
   "outputs": [],
   "source": [
    "sentence_arr = pd.DataFrame({\n",
    "    \"start_time\": [t[0] for t in time_arr],\n",
    "    \"end_time\": [t[1] for t in time_arr],\n",
    "    \"text\": subtitles\n",
    "})"
   ]
  },
  {
   "cell_type": "code",
   "execution_count": 289,
   "metadata": {},
   "outputs": [
    {
     "data": {
      "text/html": [
       "<div>\n",
       "<style scoped>\n",
       "    .dataframe tbody tr th:only-of-type {\n",
       "        vertical-align: middle;\n",
       "    }\n",
       "\n",
       "    .dataframe tbody tr th {\n",
       "        vertical-align: top;\n",
       "    }\n",
       "\n",
       "    .dataframe thead th {\n",
       "        text-align: right;\n",
       "    }\n",
       "</style>\n",
       "<table border=\"1\" class=\"dataframe\">\n",
       "  <thead>\n",
       "    <tr style=\"text-align: right;\">\n",
       "      <th></th>\n",
       "      <th>start_time</th>\n",
       "      <th>end_time</th>\n",
       "      <th>text</th>\n",
       "    </tr>\n",
       "  </thead>\n",
       "  <tbody>\n",
       "    <tr>\n",
       "      <th>0</th>\n",
       "      <td>27.40</td>\n",
       "      <td>30.711</td>\n",
       "      <td>Forget it. It's too risky. I'm through doing t...</td>\n",
       "    </tr>\n",
       "    <tr>\n",
       "      <th>1</th>\n",
       "      <td>30.80</td>\n",
       "      <td>34.077</td>\n",
       "      <td>You always say that. The same thing every time.</td>\n",
       "    </tr>\n",
       "    <tr>\n",
       "      <th>2</th>\n",
       "      <td>34.20</td>\n",
       "      <td>35.998</td>\n",
       "      <td>\"I'm through, never again, too dangerous.\"</td>\n",
       "    </tr>\n",
       "    <tr>\n",
       "      <th>3</th>\n",
       "      <td>36.12</td>\n",
       "      <td>38.475</td>\n",
       "      <td>I know that's what I always say. I'm always ri...</td>\n",
       "    </tr>\n",
       "    <tr>\n",
       "      <th>4</th>\n",
       "      <td>38.56</td>\n",
       "      <td>41.791</td>\n",
       "      <td>- You forget about it in a day or two. - The d...</td>\n",
       "    </tr>\n",
       "    <tr>\n",
       "      <th>...</th>\n",
       "      <td>...</td>\n",
       "      <td>...</td>\n",
       "      <td>...</td>\n",
       "    </tr>\n",
       "    <tr>\n",
       "      <th>1947</th>\n",
       "      <td>8541.08</td>\n",
       "      <td>8543.879</td>\n",
       "      <td>I'm trying real hard</td>\n",
       "    </tr>\n",
       "    <tr>\n",
       "      <th>1948</th>\n",
       "      <td>8543.96</td>\n",
       "      <td>8546.110</td>\n",
       "      <td>to be the shepherd.</td>\n",
       "    </tr>\n",
       "    <tr>\n",
       "      <th>1949</th>\n",
       "      <td>8560.84</td>\n",
       "      <td>8562.638</td>\n",
       "      <td>Go.</td>\n",
       "    </tr>\n",
       "    <tr>\n",
       "      <th>1950</th>\n",
       "      <td>8579.64</td>\n",
       "      <td>8581.950</td>\n",
       "      <td>I think we should be leaving now.</td>\n",
       "    </tr>\n",
       "    <tr>\n",
       "      <th>1951</th>\n",
       "      <td>8582.04</td>\n",
       "      <td>8584.839</td>\n",
       "      <td>- Yeah, that's probably a good idea.</td>\n",
       "    </tr>\n",
       "  </tbody>\n",
       "</table>\n",
       "<p>1952 rows × 3 columns</p>\n",
       "</div>"
      ],
      "text/plain": [
       "      start_time  end_time                                               text\n",
       "0          27.40    30.711  Forget it. It's too risky. I'm through doing t...\n",
       "1          30.80    34.077    You always say that. The same thing every time.\n",
       "2          34.20    35.998         \"I'm through, never again, too dangerous.\"\n",
       "3          36.12    38.475  I know that's what I always say. I'm always ri...\n",
       "4          38.56    41.791  - You forget about it in a day or two. - The d...\n",
       "...          ...       ...                                                ...\n",
       "1947     8541.08  8543.879                               I'm trying real hard\n",
       "1948     8543.96  8546.110                                to be the shepherd.\n",
       "1949     8560.84  8562.638                                                Go.\n",
       "1950     8579.64  8581.950                  I think we should be leaving now.\n",
       "1951     8582.04  8584.839               - Yeah, that's probably a good idea.\n",
       "\n",
       "[1952 rows x 3 columns]"
      ]
     },
     "execution_count": 289,
     "metadata": {},
     "output_type": "execute_result"
    }
   ],
   "source": [
    "sentence_arr"
   ]
  },
  {
   "cell_type": "code",
   "execution_count": 290,
   "metadata": {},
   "outputs": [],
   "source": [
    "def clean_sentence(sentence):\n",
    "    sentence = re.sub(r'\\W+', ' ', sentence)  # Remove symbols/punctuation\n",
    "    sentence = sentence.lower()               # Lowercase\n",
    "    sentence = re.sub(r'\\s+', ' ', sentence)  # Remove extra spaces\n",
    "    return sentence.strip()  \n",
    "sentence_arr['text'] = sentence_arr['text'].apply(clean_sentence)"
   ]
  },
  {
   "cell_type": "code",
   "execution_count": 291,
   "metadata": {},
   "outputs": [
    {
     "data": {
      "text/html": [
       "<div>\n",
       "<style scoped>\n",
       "    .dataframe tbody tr th:only-of-type {\n",
       "        vertical-align: middle;\n",
       "    }\n",
       "\n",
       "    .dataframe tbody tr th {\n",
       "        vertical-align: top;\n",
       "    }\n",
       "\n",
       "    .dataframe thead th {\n",
       "        text-align: right;\n",
       "    }\n",
       "</style>\n",
       "<table border=\"1\" class=\"dataframe\">\n",
       "  <thead>\n",
       "    <tr style=\"text-align: right;\">\n",
       "      <th></th>\n",
       "      <th>start_time</th>\n",
       "      <th>end_time</th>\n",
       "      <th>text</th>\n",
       "    </tr>\n",
       "  </thead>\n",
       "  <tbody>\n",
       "    <tr>\n",
       "      <th>0</th>\n",
       "      <td>27.40</td>\n",
       "      <td>30.711</td>\n",
       "      <td>forget it it s too risky i m through doing tha...</td>\n",
       "    </tr>\n",
       "    <tr>\n",
       "      <th>1</th>\n",
       "      <td>30.80</td>\n",
       "      <td>34.077</td>\n",
       "      <td>you always say that the same thing every time</td>\n",
       "    </tr>\n",
       "    <tr>\n",
       "      <th>2</th>\n",
       "      <td>34.20</td>\n",
       "      <td>35.998</td>\n",
       "      <td>i m through never again too dangerous</td>\n",
       "    </tr>\n",
       "    <tr>\n",
       "      <th>3</th>\n",
       "      <td>36.12</td>\n",
       "      <td>38.475</td>\n",
       "      <td>i know that s what i always say i m always rig...</td>\n",
       "    </tr>\n",
       "    <tr>\n",
       "      <th>4</th>\n",
       "      <td>38.56</td>\n",
       "      <td>41.791</td>\n",
       "      <td>you forget about it in a day or two the days o...</td>\n",
       "    </tr>\n",
       "    <tr>\n",
       "      <th>...</th>\n",
       "      <td>...</td>\n",
       "      <td>...</td>\n",
       "      <td>...</td>\n",
       "    </tr>\n",
       "    <tr>\n",
       "      <th>1947</th>\n",
       "      <td>8541.08</td>\n",
       "      <td>8543.879</td>\n",
       "      <td>i m trying real hard</td>\n",
       "    </tr>\n",
       "    <tr>\n",
       "      <th>1948</th>\n",
       "      <td>8543.96</td>\n",
       "      <td>8546.110</td>\n",
       "      <td>to be the shepherd</td>\n",
       "    </tr>\n",
       "    <tr>\n",
       "      <th>1949</th>\n",
       "      <td>8560.84</td>\n",
       "      <td>8562.638</td>\n",
       "      <td>go</td>\n",
       "    </tr>\n",
       "    <tr>\n",
       "      <th>1950</th>\n",
       "      <td>8579.64</td>\n",
       "      <td>8581.950</td>\n",
       "      <td>i think we should be leaving now</td>\n",
       "    </tr>\n",
       "    <tr>\n",
       "      <th>1951</th>\n",
       "      <td>8582.04</td>\n",
       "      <td>8584.839</td>\n",
       "      <td>yeah that s probably a good idea</td>\n",
       "    </tr>\n",
       "  </tbody>\n",
       "</table>\n",
       "<p>1952 rows × 3 columns</p>\n",
       "</div>"
      ],
      "text/plain": [
       "      start_time  end_time                                               text\n",
       "0          27.40    30.711  forget it it s too risky i m through doing tha...\n",
       "1          30.80    34.077      you always say that the same thing every time\n",
       "2          34.20    35.998              i m through never again too dangerous\n",
       "3          36.12    38.475  i know that s what i always say i m always rig...\n",
       "4          38.56    41.791  you forget about it in a day or two the days o...\n",
       "...          ...       ...                                                ...\n",
       "1947     8541.08  8543.879                               i m trying real hard\n",
       "1948     8543.96  8546.110                                 to be the shepherd\n",
       "1949     8560.84  8562.638                                                 go\n",
       "1950     8579.64  8581.950                   i think we should be leaving now\n",
       "1951     8582.04  8584.839                   yeah that s probably a good idea\n",
       "\n",
       "[1952 rows x 3 columns]"
      ]
     },
     "execution_count": 291,
     "metadata": {},
     "output_type": "execute_result"
    }
   ],
   "source": [
    "sentence_arr"
   ]
  },
  {
   "cell_type": "markdown",
   "metadata": {},
   "source": [
    "# Label text with RoBERTa transformer"
   ]
  },
  {
   "cell_type": "markdown",
   "metadata": {},
   "source": [
    "## sentiment analysis"
   ]
  },
  {
   "cell_type": "markdown",
   "metadata": {},
   "source": [
    "### RoBERTA"
   ]
  },
  {
   "cell_type": "code",
   "execution_count": 292,
   "metadata": {},
   "outputs": [
    {
     "name": "stderr",
     "output_type": "stream",
     "text": [
      "Some weights of the model checkpoint at cardiffnlp/twitter-roberta-base-sentiment-latest were not used when initializing RobertaForSequenceClassification: ['roberta.pooler.dense.bias', 'roberta.pooler.dense.weight']\n",
      "- This IS expected if you are initializing RobertaForSequenceClassification from the checkpoint of a model trained on another task or with another architecture (e.g. initializing a BertForSequenceClassification model from a BertForPreTraining model).\n",
      "- This IS NOT expected if you are initializing RobertaForSequenceClassification from the checkpoint of a model that you expect to be exactly identical (initializing a BertForSequenceClassification model from a BertForSequenceClassification model).\n"
     ]
    }
   ],
   "source": [
    "from transformers import AutoModelForSequenceClassification\n",
    "from transformers import TFAutoModelForSequenceClassification\n",
    "from transformers import AutoTokenizer, AutoConfig, AutoModel\n",
    "from scipy.special import softmax\n",
    "\n",
    "#load model\n",
    "MODEL = f\"cardiffnlp/twitter-roberta-base-sentiment-latest\"\n",
    "tokenizer = AutoTokenizer.from_pretrained(MODEL)\n",
    "config = AutoConfig.from_pretrained(MODEL)\n",
    "model_sentiment = AutoModelForSequenceClassification.from_pretrained(MODEL)"
   ]
  },
  {
   "cell_type": "code",
   "execution_count": 293,
   "metadata": {},
   "outputs": [],
   "source": [
    "#apply model output probability for each sentiment\n",
    "all_scores = []\n",
    "input_vector = []\n",
    "for sentence in sentence_arr['text']:\n",
    "    encoded_input = tokenizer(sentence, return_tensors='pt')\n",
    "    output = model_sentiment(**encoded_input)\n",
    "    scores = output[0][0].detach().numpy()\n",
    "    scores = softmax(scores)\n",
    "    all_scores.append(scores)"
   ]
  },
  {
   "cell_type": "code",
   "execution_count": 294,
   "metadata": {},
   "outputs": [],
   "source": [
    "# select the most dominat probability and make new column for class\n",
    "score_roberta = pd.DataFrame(all_scores, columns=['negative', 'neutral', 'positive'])\n",
    "score_roberta['label'] = score_roberta.apply(lambda x: x.idxmax(), axis=1)\n",
    "score_roberta['label'] = score_roberta['label'].map({'neutral': 0, 'negative': -1, 'positive': 1})\n",
    "#score_roberta['label'].to_csv(\"score_roberta.csv\")"
   ]
  },
  {
   "cell_type": "markdown",
   "metadata": {},
   "source": [
    "### Vader"
   ]
  },
  {
   "cell_type": "code",
   "execution_count": 295,
   "metadata": {},
   "outputs": [],
   "source": [
    "from vaderSentiment.vaderSentiment import SentimentIntensityAnalyzer\n",
    "analyzer = SentimentIntensityAnalyzer()\n",
    "sentiment = []\n",
    "for sentence in sentence_arr['text']:\n",
    "    vs = analyzer.polarity_scores(sentence)\n",
    "    sentiment.append(vs)"
   ]
  },
  {
   "cell_type": "code",
   "execution_count": 296,
   "metadata": {},
   "outputs": [],
   "source": [
    "score_vader = pd.DataFrame(sentiment)\n",
    "score_vader['label'] = score_vader['compound'].apply(lambda x: 1 if x >= 0.05 else (-1 if x <= -0.05 else 0))\n",
    "#score_vader['label'].to_csv(\"score_vader.csv\")\n",
    "# 0 neutral, 1 negative, 2 positive"
   ]
  },
  {
   "cell_type": "markdown",
   "metadata": {},
   "source": [
    "### textblob"
   ]
  },
  {
   "cell_type": "code",
   "execution_count": 297,
   "metadata": {},
   "outputs": [],
   "source": [
    "from textblob import TextBlob\n",
    "sentiment_tb = []\n",
    "for sentence in sentence_arr['text']:\n",
    "    object_ = TextBlob(sentence)\n",
    "    sentiment_tb.append(object_.sentiment.polarity)\n",
    "sentiment_tb = pd.Series(sentiment_tb)"
   ]
  },
  {
   "cell_type": "code",
   "execution_count": 298,
   "metadata": {},
   "outputs": [],
   "source": [
    "score_textblob = sentiment_tb.apply(lambda x: 1 if x >= 0.15 else (-1 if x <= -0.15 else 0))\n",
    "#score_textblob.to_csv(\"score_textblob.csv\")"
   ]
  },
  {
   "cell_type": "markdown",
   "metadata": {},
   "source": [
    "### export data"
   ]
  },
  {
   "cell_type": "code",
   "execution_count": 299,
   "metadata": {},
   "outputs": [
    {
     "data": {
      "text/html": [
       "<div>\n",
       "<style scoped>\n",
       "    .dataframe tbody tr th:only-of-type {\n",
       "        vertical-align: middle;\n",
       "    }\n",
       "\n",
       "    .dataframe tbody tr th {\n",
       "        vertical-align: top;\n",
       "    }\n",
       "\n",
       "    .dataframe thead th {\n",
       "        text-align: right;\n",
       "    }\n",
       "</style>\n",
       "<table border=\"1\" class=\"dataframe\">\n",
       "  <thead>\n",
       "    <tr style=\"text-align: right;\">\n",
       "      <th></th>\n",
       "      <th>start_time</th>\n",
       "      <th>end_time</th>\n",
       "      <th>sentence</th>\n",
       "      <th>TextBlob</th>\n",
       "      <th>vader</th>\n",
       "      <th>roberta</th>\n",
       "    </tr>\n",
       "  </thead>\n",
       "  <tbody>\n",
       "    <tr>\n",
       "      <th>0</th>\n",
       "      <td>27.40</td>\n",
       "      <td>30.711</td>\n",
       "      <td>forget it it s too risky i m through doing tha...</td>\n",
       "      <td>-1</td>\n",
       "      <td>-1</td>\n",
       "      <td>-1</td>\n",
       "    </tr>\n",
       "    <tr>\n",
       "      <th>1</th>\n",
       "      <td>30.80</td>\n",
       "      <td>34.077</td>\n",
       "      <td>you always say that the same thing every time</td>\n",
       "      <td>0</td>\n",
       "      <td>0</td>\n",
       "      <td>-1</td>\n",
       "    </tr>\n",
       "    <tr>\n",
       "      <th>2</th>\n",
       "      <td>34.20</td>\n",
       "      <td>35.998</td>\n",
       "      <td>i m through never again too dangerous</td>\n",
       "      <td>-1</td>\n",
       "      <td>1</td>\n",
       "      <td>-1</td>\n",
       "    </tr>\n",
       "    <tr>\n",
       "      <th>3</th>\n",
       "      <td>36.12</td>\n",
       "      <td>38.475</td>\n",
       "      <td>i know that s what i always say i m always rig...</td>\n",
       "      <td>1</td>\n",
       "      <td>0</td>\n",
       "      <td>1</td>\n",
       "    </tr>\n",
       "    <tr>\n",
       "      <th>4</th>\n",
       "      <td>38.56</td>\n",
       "      <td>41.791</td>\n",
       "      <td>you forget about it in a day or two the days o...</td>\n",
       "      <td>0</td>\n",
       "      <td>-1</td>\n",
       "      <td>-1</td>\n",
       "    </tr>\n",
       "    <tr>\n",
       "      <th>...</th>\n",
       "      <td>...</td>\n",
       "      <td>...</td>\n",
       "      <td>...</td>\n",
       "      <td>...</td>\n",
       "      <td>...</td>\n",
       "      <td>...</td>\n",
       "    </tr>\n",
       "    <tr>\n",
       "      <th>1947</th>\n",
       "      <td>8541.08</td>\n",
       "      <td>8543.879</td>\n",
       "      <td>i m trying real hard</td>\n",
       "      <td>-1</td>\n",
       "      <td>-1</td>\n",
       "      <td>0</td>\n",
       "    </tr>\n",
       "    <tr>\n",
       "      <th>1948</th>\n",
       "      <td>8543.96</td>\n",
       "      <td>8546.110</td>\n",
       "      <td>to be the shepherd</td>\n",
       "      <td>0</td>\n",
       "      <td>0</td>\n",
       "      <td>0</td>\n",
       "    </tr>\n",
       "    <tr>\n",
       "      <th>1949</th>\n",
       "      <td>8560.84</td>\n",
       "      <td>8562.638</td>\n",
       "      <td>go</td>\n",
       "      <td>0</td>\n",
       "      <td>0</td>\n",
       "      <td>0</td>\n",
       "    </tr>\n",
       "    <tr>\n",
       "      <th>1950</th>\n",
       "      <td>8579.64</td>\n",
       "      <td>8581.950</td>\n",
       "      <td>i think we should be leaving now</td>\n",
       "      <td>0</td>\n",
       "      <td>0</td>\n",
       "      <td>-1</td>\n",
       "    </tr>\n",
       "    <tr>\n",
       "      <th>1951</th>\n",
       "      <td>8582.04</td>\n",
       "      <td>8584.839</td>\n",
       "      <td>yeah that s probably a good idea</td>\n",
       "      <td>1</td>\n",
       "      <td>1</td>\n",
       "      <td>1</td>\n",
       "    </tr>\n",
       "  </tbody>\n",
       "</table>\n",
       "<p>1952 rows × 6 columns</p>\n",
       "</div>"
      ],
      "text/plain": [
       "      start_time  end_time                                           sentence  \\\n",
       "0          27.40    30.711  forget it it s too risky i m through doing tha...   \n",
       "1          30.80    34.077      you always say that the same thing every time   \n",
       "2          34.20    35.998              i m through never again too dangerous   \n",
       "3          36.12    38.475  i know that s what i always say i m always rig...   \n",
       "4          38.56    41.791  you forget about it in a day or two the days o...   \n",
       "...          ...       ...                                                ...   \n",
       "1947     8541.08  8543.879                               i m trying real hard   \n",
       "1948     8543.96  8546.110                                 to be the shepherd   \n",
       "1949     8560.84  8562.638                                                 go   \n",
       "1950     8579.64  8581.950                   i think we should be leaving now   \n",
       "1951     8582.04  8584.839                   yeah that s probably a good idea   \n",
       "\n",
       "      TextBlob  vader  roberta  \n",
       "0           -1     -1       -1  \n",
       "1            0      0       -1  \n",
       "2           -1      1       -1  \n",
       "3            1      0        1  \n",
       "4            0     -1       -1  \n",
       "...        ...    ...      ...  \n",
       "1947        -1     -1        0  \n",
       "1948         0      0        0  \n",
       "1949         0      0        0  \n",
       "1950         0      0       -1  \n",
       "1951         1      1        1  \n",
       "\n",
       "[1952 rows x 6 columns]"
      ]
     },
     "execution_count": 299,
     "metadata": {},
     "output_type": "execute_result"
    }
   ],
   "source": [
    "score_all = pd.DataFrame(score_textblob, columns= ['TextBlob'])\n",
    "score_all['vader'] = score_vader['label']\n",
    "score_all['roberta'] = score_roberta['label']\n",
    "score_all.insert(0, 'sentence', sentence_arr['text'])\n",
    "score_all.insert(0, 'start_time', sentence_arr['start_time'])\n",
    "score_all.insert(1, 'end_time', sentence_arr['end_time'])\n",
    "score_all\n"
   ]
  },
  {
   "cell_type": "code",
   "execution_count": 300,
   "metadata": {},
   "outputs": [],
   "source": [
    "tb = score_all['TextBlob'].value_counts()\n",
    "roberta = score_all['roberta'].value_counts()\n",
    "vader = score_all['vader'].value_counts()\n",
    "\n",
    "# Step 2: Combine into a DataFrame\n",
    "# This handles missing categories automatically\n",
    "counts_df = pd.concat([tb, roberta, vader], axis=1, keys=['TextBlob', 'roberta', 'vader'])"
   ]
  },
  {
   "cell_type": "code",
   "execution_count": 301,
   "metadata": {},
   "outputs": [
    {
     "data": {
      "text/html": [
       "<div>\n",
       "<style scoped>\n",
       "    .dataframe tbody tr th:only-of-type {\n",
       "        vertical-align: middle;\n",
       "    }\n",
       "\n",
       "    .dataframe tbody tr th {\n",
       "        vertical-align: top;\n",
       "    }\n",
       "\n",
       "    .dataframe thead th {\n",
       "        text-align: right;\n",
       "    }\n",
       "</style>\n",
       "<table border=\"1\" class=\"dataframe\">\n",
       "  <thead>\n",
       "    <tr style=\"text-align: right;\">\n",
       "      <th></th>\n",
       "      <th>TextBlob</th>\n",
       "      <th>roberta</th>\n",
       "      <th>vader</th>\n",
       "    </tr>\n",
       "  </thead>\n",
       "  <tbody>\n",
       "    <tr>\n",
       "      <th>0</th>\n",
       "      <td>1217</td>\n",
       "      <td>1047</td>\n",
       "      <td>867</td>\n",
       "    </tr>\n",
       "    <tr>\n",
       "      <th>-1</th>\n",
       "      <td>373</td>\n",
       "      <td>653</td>\n",
       "      <td>527</td>\n",
       "    </tr>\n",
       "    <tr>\n",
       "      <th>1</th>\n",
       "      <td>362</td>\n",
       "      <td>252</td>\n",
       "      <td>558</td>\n",
       "    </tr>\n",
       "  </tbody>\n",
       "</table>\n",
       "</div>"
      ],
      "text/plain": [
       "    TextBlob  roberta  vader\n",
       " 0      1217     1047    867\n",
       "-1       373      653    527\n",
       " 1       362      252    558"
      ]
     },
     "execution_count": 301,
     "metadata": {},
     "output_type": "execute_result"
    }
   ],
   "source": [
    "counts_df"
   ]
  },
  {
   "cell_type": "code",
   "execution_count": 302,
   "metadata": {},
   "outputs": [
    {
     "data": {
      "image/png": "[encoded data removed]",
      "text/plain": [
       "<Figure size 1000x600 with 1 Axes>"
      ]
     },
     "metadata": {},
     "output_type": "display_data"
    }
   ],
   "source": [
    "import matplotlib.pyplot as plt\n",
    "import os\n",
    "\n",
    "out_name= \"pulpFiction\"\n",
    "out_path = \"./image_output/\"\n",
    "csv_path = './csv_output/'\n",
    "# Create plot\n",
    "ax = counts_df.plot(kind='bar', \n",
    "                   figsize=(10, 6),\n",
    "                   rot=0)  # Keep sentiment labels horizontal\n",
    "\n",
    "# Add labels and title\n",
    "plt.title( out_name + 'Sentiment Analysis')\n",
    "plt.xlabel('Sentiment')\n",
    "plt.ylabel('Count')\n",
    "\n",
    "# Add value labels\n",
    "for container in ax.containers:\n",
    "    ax.bar_label(container, label_type='edge')\n",
    "\n",
    "plt.tight_layout()\n",
    "plt.savefig(os.path.join(out_path,out_name)+ '.jpg')\n",
    "plt.show()\n",
    "\n",
    "score_all.to_csv(os.path.join(csv_path,out_name)+ '.csv')"
   ]
  },
  {
   "cell_type": "markdown",
   "metadata": {},
   "source": [
    "### Sentence transformer mpnet"
   ]
  },
  {
   "cell_type": "code",
   "execution_count": null,
   "metadata": {},
   "outputs": [
    {
     "name": "stdout",
     "output_type": "stream",
     "text": [
      "Train size: (871, 768) | Val size: (187, 768) | Test size: (187, 768)\n",
      "roberta\n",
      "0    721\n",
      "2    270\n",
      "1    254\n",
      "Name: count, dtype: int64\n",
      "\n",
      "=== Training: Logistic Regression ===\n",
      "Validation Accuracy: 0.7112\n",
      "\n",
      "=== Training: SVM (linear) ===\n",
      "Validation Accuracy: 0.7059\n",
      "\n",
      "=== Training: XGBoost ===\n"
     ]
    },
    {
     "name": "stderr",
     "output_type": "stream",
     "text": [
      "c:\\Users\\NA\\.conda\\envs\\eeg_study\\Lib\\site-packages\\xgboost\\training.py:183: UserWarning: [17:07:20] WARNING: C:\\actions-runner\\_work\\xgboost\\xgboost\\src\\learner.cc:738: \n",
      "Parameters: { \"use_label_encoder\" } are not used.\n",
      "\n",
      "  bst.update(dtrain, iteration=i, fobj=obj)\n"
     ]
    },
    {
     "name": "stdout",
     "output_type": "stream",
     "text": [
      "Validation Accuracy: 0.6898\n"
     ]
    }
   ],
   "source": [
    "X = embedding_mpnet\n",
    "y = sentence_arr['roberta']\n",
    "\n",
    "X_train, X_temp, y_train, y_temp = train_test_split(X, y, test_size=0.30, random_state=42, stratify=y)\n",
    "X_val, X_test, y_val, y_test = train_test_split(X_temp, y_temp, test_size=0.50, random_state=42, stratify=y_temp)\n",
    "print(\"Train size:\", X_train.shape, \"| Val size:\", X_val.shape, \"| Test size:\", X_test.shape)\n",
    "print(y.value_counts())\n",
    "\n",
    "models = {\n",
    "    \"Logistic Regression\": LogisticRegression(max_iter=1000, C=1.0),\n",
    "    \"SVM (linear)\": SVC(kernel='rbf', C=1.0, probability=True),\n",
    "    \"XGBoost\": XGBClassifier(use_label_encoder=False, eval_metric='mlogloss', max_depth=4, learning_rate=0.1)\n",
    "}\n",
    "\n",
    "# === Train and evaluate each model ===\n",
    "for name, model in models.items():\n",
    "    print(f\"\\n=== Training: {name} ===\")\n",
    "    model.fit(X_train, y_train)\n",
    "\n",
    "    # Evaluate on validation set\n",
    "    y_val_pred = model.predict(X_val)\n",
    "    acc = accuracy_score(y_val, y_val_pred)\n",
    "    print(f\"Validation Accuracy: {acc:.4f}\")\n",
    "    #print(\"Classification Report:\")\n",
    "    #print(classification_report(y_val, y_val_pred))"
   ]
  },
  {
   "cell_type": "code",
   "execution_count": null,
   "metadata": {},
   "outputs": [
    {
     "name": "stdout",
     "output_type": "stream",
     "text": [
      "Train size: (871, 768) | Val size: (187, 768) | Test size: (187, 768)\n",
      "vader\n",
      "0    527\n",
      "2    514\n",
      "1    204\n",
      "Name: count, dtype: int64\n",
      "\n",
      "=== Training: Logistic Regression ===\n",
      "Validation Accuracy: 0.7166\n",
      "\n",
      "=== Training: SVM (linear) ===\n",
      "Validation Accuracy: 0.7005\n",
      "\n",
      "=== Training: XGBoost ===\n"
     ]
    },
    {
     "name": "stderr",
     "output_type": "stream",
     "text": [
      "c:\\Users\\NA\\.conda\\envs\\eeg_study\\Lib\\site-packages\\xgboost\\training.py:183: UserWarning: [17:07:22] WARNING: C:\\actions-runner\\_work\\xgboost\\xgboost\\src\\learner.cc:738: \n",
      "Parameters: { \"use_label_encoder\" } are not used.\n",
      "\n",
      "  bst.update(dtrain, iteration=i, fobj=obj)\n"
     ]
    },
    {
     "name": "stdout",
     "output_type": "stream",
     "text": [
      "Validation Accuracy: 0.6471\n"
     ]
    }
   ],
   "source": [
    "X = embedding_mpnet\n",
    "y = sentence_arr['vader']\n",
    "\n",
    "X_train, X_temp, y_train, y_temp = train_test_split(X, y, test_size=0.30, random_state=42, stratify=y)\n",
    "X_val, X_test, y_val, y_test = train_test_split(X_temp, y_temp, test_size=0.50, random_state=42, stratify=y_temp)\n",
    "print(\"Train size:\", X_train.shape, \"| Val size:\", X_val.shape, \"| Test size:\", X_test.shape)\n",
    "print(y.value_counts())\n",
    "\n",
    "models = {\n",
    "    \"Logistic Regression\": LogisticRegression(max_iter=1000, C=1.0),\n",
    "    \"SVM (linear)\": SVC(kernel='rbf', C=1.0, probability=True),\n",
    "    \"XGBoost\": XGBClassifier(use_label_encoder=False, eval_metric='mlogloss', max_depth=4, learning_rate=0.1)\n",
    "}\n",
    "\n",
    "# === Train and evaluate each model ===\n",
    "for name, model in models.items():\n",
    "    print(f\"\\n=== Training: {name} ===\")\n",
    "    model.fit(X_train, y_train)\n",
    "\n",
    "    # Evaluate on validation set\n",
    "    y_val_pred = model.predict(X_val)\n",
    "    acc = accuracy_score(y_val, y_val_pred)\n",
    "    print(f\"Validation Accuracy: {acc:.4f}\")\n",
    "    #print(\"Classification Report:\")\n",
    "    #print(classification_report(y_val, y_val_pred))"
   ]
  },
  {
   "cell_type": "code",
   "execution_count": null,
   "metadata": {},
   "outputs": [
    {
     "name": "stdout",
     "output_type": "stream",
     "text": [
      "Train size: (871, 768) | Val size: (187, 768) | Test size: (187, 768)\n",
      "textB\n",
      "0    786\n",
      "2    353\n",
      "1    106\n",
      "Name: count, dtype: int64\n",
      "\n",
      "=== Training: Logistic Regression ===\n",
      "Validation Accuracy: 0.7380\n",
      "\n",
      "=== Training: SVM (linear) ===\n",
      "Validation Accuracy: 0.7594\n",
      "\n",
      "=== Training: XGBoost ===\n"
     ]
    },
    {
     "name": "stderr",
     "output_type": "stream",
     "text": [
      "c:\\Users\\NA\\.conda\\envs\\eeg_study\\Lib\\site-packages\\xgboost\\training.py:183: UserWarning: [17:07:25] WARNING: C:\\actions-runner\\_work\\xgboost\\xgboost\\src\\learner.cc:738: \n",
      "Parameters: { \"use_label_encoder\" } are not used.\n",
      "\n",
      "  bst.update(dtrain, iteration=i, fobj=obj)\n"
     ]
    },
    {
     "name": "stdout",
     "output_type": "stream",
     "text": [
      "Validation Accuracy: 0.7112\n"
     ]
    }
   ],
   "source": [
    "X = embedding_mpnet\n",
    "y = sentence_arr['textB']\n",
    "\n",
    "X_train, X_temp, y_train, y_temp = train_test_split(X, y, test_size=0.30, random_state=42, stratify=y)\n",
    "X_val, X_test, y_val, y_test = train_test_split(X_temp, y_temp, test_size=0.50, random_state=42, stratify=y_temp)\n",
    "print(\"Train size:\", X_train.shape, \"| Val size:\", X_val.shape, \"| Test size:\", X_test.shape)\n",
    "print(y.value_counts())\n",
    "\n",
    "models = {\n",
    "    \"Logistic Regression\": LogisticRegression(max_iter=1000, C=1.0),\n",
    "    \"SVM (linear)\": SVC(kernel='rbf', C=1.0, probability=True),\n",
    "    \"XGBoost\": XGBClassifier(use_label_encoder=False, eval_metric='mlogloss', max_depth=4, learning_rate=0.1)\n",
    "}\n",
    "\n",
    "# === Train and evaluate each model ===\n",
    "for name, model in models.items():\n",
    "    print(f\"\\n=== Training: {name} ===\")\n",
    "    model.fit(X_train, y_train)\n",
    "\n",
    "    # Evaluate on validation set\n",
    "    y_val_pred = model.predict(X_val)\n",
    "    acc = accuracy_score(y_val, y_val_pred)\n",
    "    print(f\"Validation Accuracy: {acc:.4f}\")\n",
    "    #print(\"Classification Report:\")\n",
    "    #print(classification_report(y_val, y_val_pred))"
   ]
  },
  {
   "cell_type": "code",
   "execution_count": 150,
   "metadata": {},
   "outputs": [],
   "source": [
    "score_all.to_csv('ShawShankRedemption_class_of_sentence.csv')"
   ]
  },
  {
   "cell_type": "markdown",
   "metadata": {},
   "source": [
    "### similarity score"
   ]
  },
  {
   "cell_type": "code",
   "execution_count": 148,
   "metadata": {},
   "outputs": [],
   "source": [
    "from sklearn.metrics import jaccard_score\n",
    "from sklearn.metrics import accuracy_score\n",
    "\n",
    "accuracy = accuracy_score(score_vader['label'].values, score_roberta['label'].values)\n",
    "sim = sum(x == y for x, y in zip(score_vader['label'], score_roberta['label'] )) / len(score_vader['label'])\n",
    "score = jaccard_score(score_vader['label'].values, score_roberta['label'].values, average='weighted')\n",
    "\n",
    "accuracy_tb_v = accuracy_score(score_vader['label'].values, score_textblob)\n",
    "sim_tb_v = sum(x == y for x, y in zip(score_vader['label'], score_textblob )) / len(score_vader['label'])\n",
    "score_tb_v = jaccard_score(score_vader['label'].values, score_textblob, average='weighted')\n",
    "\n",
    "accuracy_tb_r = accuracy_score(score_textblob, score_roberta['label'].values)\n",
    "sim_tb_r = sum(x == y for x, y in zip(score_textblob, score_roberta['label'] )) / len(score_roberta['label'])\n",
    "score_tb_r = jaccard_score(score_textblob.values, score_roberta['label'].values, average='weighted')"
   ]
  },
  {
   "cell_type": "code",
   "execution_count": 33,
   "metadata": {},
   "outputs": [
    {
     "name": "stdout",
     "output_type": "stream",
     "text": [
      "similarity score vader roberta is 0.6168674698795181\n",
      "jaccard score vader roberta is 0.439582572855067\n",
      "accuracy score vader roberta is 0.6168674698795181\n"
     ]
    }
   ],
   "source": [
    "print(f\"similarity score vader roberta is {sim}\")\n",
    "print(f\"jaccard score vader roberta is {score}\")\n",
    "print(f\"accuracy score vader roberta is {accuracy}\")"
   ]
  },
  {
   "cell_type": "code",
   "execution_count": 151,
   "metadata": {},
   "outputs": [
    {
     "name": "stdout",
     "output_type": "stream",
     "text": [
      "similarity score vader textblob is 0.6404028436018957\n",
      "jaccard score vader textblob is 0.45481739143295324\n",
      "accuracy score vader textblob is 0.6404028436018957\n"
     ]
    }
   ],
   "source": [
    "print(f\"similarity score vader textblob is {accuracy_tb_v}\")\n",
    "print(f\"jaccard score vader textblob is {score_tb_v}\")\n",
    "print(f\"accuracy score vader textblob is {sim_tb_v}\")"
   ]
  },
  {
   "cell_type": "code",
   "execution_count": 152,
   "metadata": {},
   "outputs": [
    {
     "name": "stdout",
     "output_type": "stream",
     "text": [
      "similarity score textblob roberta is 0.6433649289099526\n",
      "jaccard score textblob roberta is 0.6433649289099526\n",
      "accuracy score textblob roberta is 0.5159642440229745\n"
     ]
    }
   ],
   "source": [
    "print(f\"similarity score textblob roberta is {accuracy_tb_r}\")\n",
    "print(f\"jaccard score textblob roberta is {sim_tb_r}\")\n",
    "print(f\"accuracy score textblob roberta is {score_tb_r}\")"
   ]
  },
  {
   "cell_type": "markdown",
   "metadata": {},
   "source": [
    "## emotion analysis"
   ]
  },
  {
   "cell_type": "markdown",
   "metadata": {},
   "source": [
    "# Change word to vector "
   ]
  },
  {
   "cell_type": "markdown",
   "metadata": {},
   "source": [
    "## sentence / word tokenization and embeddingh"
   ]
  },
  {
   "cell_type": "markdown",
   "metadata": {},
   "source": [
    "### word2vec embedding"
   ]
  },
  {
   "cell_type": "code",
   "execution_count": 50,
   "metadata": {},
   "outputs": [],
   "source": [
    "# word2vec\n",
    "def sentence_to_vec(sentence, model, vector_size=300):\n",
    "    words = sentence.lower().split()  \n",
    "    #tokens = [re.sub(r'\\W+', '', token) for token in words] \n",
    "    word_vectors = [model[word] for word in words if word in model.key_to_index]\n",
    "    if len(word_vectors) == 0:\n",
    "        return np.zeros(vector_size)\n",
    "    else:\n",
    "        return np.mean(word_vectors, axis=0)\n",
    "\n",
    "# load model to embed the word into vector\n",
    "from gensim.models import Word2Vec\n",
    "from gensim.downloader import load\n",
    "model_w2v = load(\"word2vec-google-news-300\")"
   ]
  },
  {
   "cell_type": "code",
   "execution_count": 51,
   "metadata": {},
   "outputs": [
    {
     "name": "stdout",
     "output_type": "stream",
     "text": [
      "Tokens in model: ['this', 'is', 'story', 'boy', 'meets', 'girl']\n",
      "Tokens 2 in model: ['the', 'boy', 'tom', 'hansen', 'new', 'jersey', 'grew', 'up', 'believing', 'that', 'hed', 'never', 'truly', 'be', 'happy', 'until', 'the', 'day', 'he', 'met', 'the', 'one']\n"
     ]
    }
   ],
   "source": [
    "# check word in dict\n",
    "tokens = ['this', 'is', 'a', 'story', 'of', 'boy', 'meets', 'girl']\n",
    "tokens2 = ['the', 'boy', 'tom', 'hansen', 'of', 'margate', 'new', 'jersey', 'grew', 'up', 'believing', 'that', 'hed',\n",
    "            'never', 'truly', 'be', 'happy', 'until', 'the', 'day', 'he', 'met', 'the', 'one']\n",
    "valid_tokens = [token for token in tokens if token in model_w2v]\n",
    "print(\"Tokens in model:\", valid_tokens)\n",
    "\n",
    "valid_tokens2 = [token for token in tokens2 if token in model_w2v]\n",
    "print(\"Tokens 2 in model:\", valid_tokens2)"
   ]
  },
  {
   "cell_type": "markdown",
   "metadata": {},
   "source": [
    "### distolbert-tokenization and embedding"
   ]
  },
  {
   "cell_type": "code",
   "execution_count": null,
   "metadata": {},
   "outputs": [],
   "source": [
    "import torch\n",
    "import tqdm\n",
    "def get_cls_embeddings_from_series(text_series, tokenizer,model, max_length=128, batch_size=1):\n",
    "    \"\"\"\n",
    "    Converts a Pandas Series of text into a NumPy array of CLS embeddings using DistilBERT.\n",
    "    where CLS is used in the model as a sentence embedding. \n",
    "\n",
    "    Parameters:\n",
    "        text_series (pd.Series): Series of text strings\n",
    "        max_length (int): Maximum token length per sentence\n",
    "        batch_size (int): Batch size for processing (optional, useful for large sets)\n",
    "\n",
    "    Returns:\n",
    "        np.ndarray: Array of shape (n_samples, 768) containing CLS embeddings\n",
    "    \"\"\"\n",
    "    cls_embeddings = []\n",
    "\n",
    "    for text in text_series:\n",
    "        encoded_input = tokenizer(\n",
    "            text,\n",
    "            return_tensors='pt',\n",
    "            padding='max_length',\n",
    "            truncation=True,\n",
    "            max_length=max_length\n",
    "        )\n",
    "\n",
    "        with torch.no_grad():\n",
    "            output = model(**encoded_input)\n",
    "\n",
    "        cls_vec = output.last_hidden_state[:, 0, :]  # [1, 768]\n",
    "        #cls_embeddings.append(cls_vec.squeeze(0).numpy())  # [768]\n",
    "        cls_embeddings.append(np.expand_dims(cls_vec.squeeze(0).numpy(), axis=0))\n",
    "\n",
    "    return np.vstack(cls_embeddings) # shape: [num_sentences, 768]"
   ]
  },
  {
   "cell_type": "markdown",
   "metadata": {},
   "source": [
    "### sentiment_tokenization from roberta model"
   ]
  },
  {
   "cell_type": "code",
   "execution_count": 53,
   "metadata": {},
   "outputs": [],
   "source": [
    "# sentiment_tokenization\n",
    "model_cardiff = f\"cardiffnlp/twitter-roberta-base-sentiment-latest\"\n",
    "tokenizer_ = AutoTokenizer.from_pretrained(model_cardiff)\n",
    "\n",
    "def car_diff_embed(text_series, max_length=128, batch_size=1):\n",
    "\n",
    "    car_diff = []\n",
    "    for text in text_series:\n",
    "\n",
    "        embedding_cardiff = tokenizer_(\n",
    "            text,\n",
    "            return_tensors='pt',       # Return PyTorch tensors\n",
    "            padding='max_length',      # Pad all to the same max_length\n",
    "            truncation=True,           # Truncate if over max_length\n",
    "            max_length=162      \n",
    "        )\n",
    "\n",
    "        car_diff.append(embedding_cardiff['input_ids'].numpy())\n",
    "\n",
    "    return car_diff "
   ]
  },
  {
   "cell_type": "code",
   "execution_count": 86,
   "metadata": {},
   "outputs": [
    {
     "data": {
      "text/plain": [
       "array([[ 0.6997454 ,  0.15458025, -0.01059891, ...,  0.47170144,\n",
       "         0.93815315, -0.41023418],\n",
       "       [-0.54252654,  0.6246307 ,  0.03168805, ..., -0.15648341,\n",
       "        -0.71036536, -0.00857123]], dtype=float32)"
      ]
     },
     "execution_count": 86,
     "metadata": {},
     "output_type": "execute_result"
    }
   ],
   "source": [
    "features"
   ]
  },
  {
   "cell_type": "markdown",
   "metadata": {},
   "source": [
    "### run embedding and tokenization function"
   ]
  },
  {
   "cell_type": "code",
   "execution_count": null,
   "metadata": {},
   "outputs": [],
   "source": [
    "# distilbert fine-tuned with standford dataset for sentiment analysis SST2\n",
    "from transformers import DistilBertTokenizer, DistilBertModel\n",
    "tokenizer_BERT = DistilBertTokenizer.from_pretrained('distilbert-base-uncased')\n",
    "model_BERT = DistilBertModel.from_pretrained(\"distilbert-base-uncased\")\n",
    "model_BERT.eval()\n",
    "\n",
    "model_name = \"distilbert-base-uncased-finetuned-sst-2-english\"\n",
    "tokenizer_sentence_finetuned = AutoTokenizer.from_pretrained(model_name)\n",
    "model_sentence_finetuned = AutoModel.from_pretrained(model_name)  \n",
    "model_sentence_finetuned.eval()\n",
    "\n",
    "\n",
    "\n",
    "sentence_arr['embedding_w2v'] = sentence_arr['text'].apply(lambda x: np.array(sentence_to_vec(x, model_w2v)))\n",
    "embedding_tfm = get_cls_embeddings_from_series(sentence_arr['text'], tokenizer= tokenizer_BERT, model= model_BERT)\n",
    "embedding_sst = get_cls_embeddings_from_series(sentence_arr['text'], tokenizer= tokenizer_sentence_finetuned, model= model_sentence_finetuned)\n",
    "\n",
    "embedding_cardiff = np.squeeze(np.array(car_diff_embed(sentence_arr['text'])))\n",
    "\n",
    "sentence_arr['vader'] = score_vader['label']\n",
    "sentence_arr['roberta'] = score_roberta['label']\n",
    "sentence_arr['textB'] = score_textblob"
   ]
  },
  {
   "cell_type": "code",
   "execution_count": 77,
   "metadata": {},
   "outputs": [
    {
     "name": "stderr",
     "output_type": "stream",
     "text": [
      "c:\\Users\\NA\\.conda\\envs\\eeg_study\\Lib\\site-packages\\huggingface_hub\\file_download.py:143: UserWarning: `huggingface_hub` cache-system uses symlinks by default to efficiently store duplicated files but your machine does not support them in C:\\Users\\NA\\.cache\\huggingface\\hub\\models--sentence-transformers--all-mpnet-base-v2. Caching files will still work but in a degraded version that might require more space on your disk. This warning can be disabled by setting the `HF_HUB_DISABLE_SYMLINKS_WARNING` environment variable. For more details, see https://huggingface.co/docs/huggingface_hub/how-to-cache#limitations.\n",
      "To support symlinks on Windows, you either need to activate Developer Mode or to run Python as an administrator. In order to activate developer mode, see this article: https://docs.microsoft.com/en-us/windows/apps/get-started/enable-your-device-for-development\n",
      "  warnings.warn(message)\n",
      "Xet Storage is enabled for this repo, but the 'hf_xet' package is not installed. Falling back to regular HTTP download. For better performance, install the package with: `pip install huggingface_hub[hf_xet]` or `pip install hf_xet`\n"
     ]
    }
   ],
   "source": [
    "from sentence_transformers import SentenceTransformer\n",
    "model_miniLM = SentenceTransformer(\"all-MiniLM-L6-v2\")\n",
    "model_mpnet = SentenceTransformer(\"all-mpnet-base-v2\")\n",
    "embedding_miniLM = model_miniLM.encode(sentence_arr['text'].values)\n",
    "embedding_mpnet = model_mpnet.encode(sentence_arr['text'].values)"
   ]
  },
  {
   "cell_type": "markdown",
   "metadata": {},
   "source": [
    "## classification sentiment with word vector as a feature"
   ]
  },
  {
   "cell_type": "code",
   "execution_count": 58,
   "metadata": {},
   "outputs": [],
   "source": [
    "import numpy as np\n",
    "import pandas as pd\n",
    "from sklearn.model_selection import train_test_split\n",
    "from sklearn.preprocessing import LabelEncoder\n",
    "from sklearn.metrics import classification_report, accuracy_score\n",
    "from sklearn.linear_model import LogisticRegression\n",
    "from sklearn.svm import SVC\n",
    "from xgboost import XGBClassifier"
   ]
  },
  {
   "cell_type": "markdown",
   "metadata": {},
   "source": [
    "### word2vec"
   ]
  },
  {
   "cell_type": "code",
   "execution_count": 64,
   "metadata": {},
   "outputs": [
    {
     "name": "stdout",
     "output_type": "stream",
     "text": [
      "Train size: (871, 300) | Val size: (187, 300) | Test size: (187, 300)\n",
      "vader\n",
      "0    527\n",
      "2    514\n",
      "1    204\n",
      "Name: count, dtype: int64\n",
      "\n",
      "=== Training: Logistic Regression ===\n",
      "Validation Accuracy: 0.7059\n",
      "\n",
      "=== Training: SVM (linear) ===\n",
      "Validation Accuracy: 0.7914\n",
      "\n",
      "=== Training: XGBoost ===\n"
     ]
    },
    {
     "name": "stderr",
     "output_type": "stream",
     "text": [
      "c:\\Users\\NA\\.conda\\envs\\eeg_study\\Lib\\site-packages\\xgboost\\training.py:183: UserWarning: [14:06:53] WARNING: C:\\actions-runner\\_work\\xgboost\\xgboost\\src\\learner.cc:738: \n",
      "Parameters: { \"use_label_encoder\" } are not used.\n",
      "\n",
      "  bst.update(dtrain, iteration=i, fobj=obj)\n"
     ]
    },
    {
     "name": "stdout",
     "output_type": "stream",
     "text": [
      "Validation Accuracy: 0.7380\n"
     ]
    }
   ],
   "source": [
    "X = np.vstack(sentence_arr['embedding_w2v'].values)\n",
    "y = sentence_arr['vader']\n",
    "\n",
    "X_train, X_temp, y_train, y_temp = train_test_split(X, y, test_size=0.30, random_state=42, stratify=y)\n",
    "X_val, X_test, y_val, y_test = train_test_split(X_temp, y_temp, test_size=0.50, random_state=42, stratify=y_temp)\n",
    "print(\"Train size:\", X_train.shape, \"| Val size:\", X_val.shape, \"| Test size:\", X_test.shape)\n",
    "print(y.value_counts())\n",
    "\n",
    "models = {\n",
    "    \"Logistic Regression\": LogisticRegression(max_iter=1000, C=1.0),\n",
    "    \"SVM (linear)\": SVC(kernel='rbf', C=1.0, probability=True),\n",
    "    \"XGBoost\": XGBClassifier(use_label_encoder=False, eval_metric='mlogloss', max_depth=4, learning_rate=0.1)\n",
    "}\n",
    "\n",
    "# === Train and evaluate each model ===\n",
    "for name, model in models.items():\n",
    "    print(f\"\\n=== Training: {name} ===\")\n",
    "    model.fit(X_train, y_train)\n",
    "\n",
    "    # Evaluate on validation set\n",
    "    y_val_pred = model.predict(X_val)\n",
    "    acc = accuracy_score(y_val, y_val_pred)\n",
    "    print(f\"Validation Accuracy: {acc:.4f}\")\n",
    "    #print(\"Classification Report:\")\n",
    "    #print(classification_report(y_val, y_val_pred))"
   ]
  },
  {
   "cell_type": "code",
   "execution_count": 65,
   "metadata": {},
   "outputs": [
    {
     "name": "stdout",
     "output_type": "stream",
     "text": [
      "Train size: (871, 300) | Val size: (187, 300) | Test size: (187, 300)\n",
      "roberta\n",
      "0    721\n",
      "2    270\n",
      "1    254\n",
      "Name: count, dtype: int64\n",
      "\n",
      "=== Training: Logistic Regression ===\n",
      "Validation Accuracy: 0.6310\n",
      "\n",
      "=== Training: SVM (linear) ===\n",
      "Validation Accuracy: 0.6684\n",
      "\n",
      "=== Training: XGBoost ===\n"
     ]
    },
    {
     "name": "stderr",
     "output_type": "stream",
     "text": [
      "c:\\Users\\NA\\.conda\\envs\\eeg_study\\Lib\\site-packages\\xgboost\\training.py:183: UserWarning: [14:07:08] WARNING: C:\\actions-runner\\_work\\xgboost\\xgboost\\src\\learner.cc:738: \n",
      "Parameters: { \"use_label_encoder\" } are not used.\n",
      "\n",
      "  bst.update(dtrain, iteration=i, fobj=obj)\n"
     ]
    },
    {
     "name": "stdout",
     "output_type": "stream",
     "text": [
      "Validation Accuracy: 0.6578\n"
     ]
    }
   ],
   "source": [
    "X = np.vstack(sentence_arr['embedding_w2v'].values)\n",
    "y = sentence_arr['roberta']\n",
    "\n",
    "X_train, X_temp, y_train, y_temp = train_test_split(X, y, test_size=0.30, random_state=42, stratify=y)\n",
    "X_val, X_test, y_val, y_test = train_test_split(X_temp, y_temp, test_size=0.50, random_state=42, stratify=y_temp)\n",
    "print(\"Train size:\", X_train.shape, \"| Val size:\", X_val.shape, \"| Test size:\", X_test.shape)\n",
    "print(y.value_counts())\n",
    "\n",
    "models = {\n",
    "    \"Logistic Regression\": LogisticRegression(max_iter=1000, C=1.0),\n",
    "    \"SVM (linear)\": SVC(kernel='rbf', C=1.0, probability=True),\n",
    "    \"XGBoost\": XGBClassifier(use_label_encoder=False, eval_metric='mlogloss', max_depth=4, learning_rate=0.1)\n",
    "}\n",
    "\n",
    "# === Train and evaluate each model ===\n",
    "for name, model in models.items():\n",
    "    print(f\"\\n=== Training: {name} ===\")\n",
    "    model.fit(X_train, y_train)\n",
    "\n",
    "    # Evaluate on validation set\n",
    "    y_val_pred = model.predict(X_val)\n",
    "    acc = accuracy_score(y_val, y_val_pred)\n",
    "    print(f\"Validation Accuracy: {acc:.4f}\")\n",
    "    #print(\"Classification Report:\")\n",
    "    #print(classification_report(y_val, y_val_pred))"
   ]
  },
  {
   "cell_type": "code",
   "execution_count": 66,
   "metadata": {},
   "outputs": [
    {
     "name": "stdout",
     "output_type": "stream",
     "text": [
      "Train size: (871, 300) | Val size: (187, 300) | Test size: (187, 300)\n",
      "textB\n",
      "0    786\n",
      "2    353\n",
      "1    106\n",
      "Name: count, dtype: int64\n",
      "\n",
      "=== Training: Logistic Regression ===\n",
      "Validation Accuracy: 0.7968\n",
      "\n",
      "=== Training: SVM (linear) ===\n",
      "Validation Accuracy: 0.8021\n",
      "\n",
      "=== Training: XGBoost ===\n"
     ]
    },
    {
     "name": "stderr",
     "output_type": "stream",
     "text": [
      "c:\\Users\\NA\\.conda\\envs\\eeg_study\\Lib\\site-packages\\xgboost\\training.py:183: UserWarning: [14:07:23] WARNING: C:\\actions-runner\\_work\\xgboost\\xgboost\\src\\learner.cc:738: \n",
      "Parameters: { \"use_label_encoder\" } are not used.\n",
      "\n",
      "  bst.update(dtrain, iteration=i, fobj=obj)\n"
     ]
    },
    {
     "name": "stdout",
     "output_type": "stream",
     "text": [
      "Validation Accuracy: 0.7647\n"
     ]
    }
   ],
   "source": [
    "X = np.vstack(sentence_arr['embedding_w2v'].values)\n",
    "y = sentence_arr['textB']\n",
    "\n",
    "X_train, X_temp, y_train, y_temp = train_test_split(X, y, test_size=0.30, random_state=42, stratify=y)\n",
    "X_val, X_test, y_val, y_test = train_test_split(X_temp, y_temp, test_size=0.50, random_state=42, stratify=y_temp)\n",
    "print(\"Train size:\", X_train.shape, \"| Val size:\", X_val.shape, \"| Test size:\", X_test.shape)\n",
    "print(y.value_counts())\n",
    "\n",
    "models = {\n",
    "    \"Logistic Regression\": LogisticRegression(max_iter=1000, C=1.0),\n",
    "    \"SVM (linear)\": SVC(kernel='rbf', C=1.0, probability=True),\n",
    "    \"XGBoost\": XGBClassifier(use_label_encoder=False, eval_metric='mlogloss', max_depth=4, learning_rate=0.1)\n",
    "}\n",
    "\n",
    "# === Train and evaluate each model ===\n",
    "for name, model in models.items():\n",
    "    print(f\"\\n=== Training: {name} ===\")\n",
    "    model.fit(X_train, y_train)\n",
    "\n",
    "    # Evaluate on validation set\n",
    "    y_val_pred = model.predict(X_val)\n",
    "    acc = accuracy_score(y_val, y_val_pred)\n",
    "    print(f\"Validation Accuracy: {acc:.4f}\")\n",
    "    #print(\"Classification Report:\")\n",
    "    #print(classification_report(y_val, y_val_pred))"
   ]
  },
  {
   "cell_type": "markdown",
   "metadata": {},
   "source": [
    "### distilbert embedding"
   ]
  },
  {
   "cell_type": "code",
   "execution_count": 67,
   "metadata": {},
   "outputs": [
    {
     "name": "stdout",
     "output_type": "stream",
     "text": [
      "Train size: (871, 768) | Val size: (187, 768) | Test size: (187, 768)\n",
      "vader\n",
      "0    527\n",
      "2    514\n",
      "1    204\n",
      "Name: count, dtype: int64\n",
      "\n",
      "=== Training: Logistic Regression ===\n",
      "Validation Accuracy: 0.5294\n",
      "\n",
      "=== Training: SVM (linear) ===\n",
      "Validation Accuracy: 0.4920\n",
      "\n",
      "=== Training: XGBoost ===\n"
     ]
    },
    {
     "name": "stderr",
     "output_type": "stream",
     "text": [
      "c:\\Users\\NA\\.conda\\envs\\eeg_study\\Lib\\site-packages\\xgboost\\training.py:183: UserWarning: [14:07:39] WARNING: C:\\actions-runner\\_work\\xgboost\\xgboost\\src\\learner.cc:738: \n",
      "Parameters: { \"use_label_encoder\" } are not used.\n",
      "\n",
      "  bst.update(dtrain, iteration=i, fobj=obj)\n"
     ]
    },
    {
     "name": "stdout",
     "output_type": "stream",
     "text": [
      "Validation Accuracy: 0.5401\n"
     ]
    }
   ],
   "source": [
    "\n",
    "X = embedding_tfm\n",
    "y = sentence_arr['vader']\n",
    "\n",
    "X_train, X_temp, y_train, y_temp = train_test_split(X, y, test_size=0.30, random_state=42, stratify=y)\n",
    "X_val, X_test, y_val, y_test = train_test_split(X_temp, y_temp, test_size=0.50, random_state=42, stratify=y_temp)\n",
    "print(\"Train size:\", X_train.shape, \"| Val size:\", X_val.shape, \"| Test size:\", X_test.shape)\n",
    "print(y.value_counts())\n",
    "\n",
    "models = {\n",
    "    \"Logistic Regression\": LogisticRegression(max_iter=1000, C=1.0),\n",
    "    \"SVM (linear)\": SVC(kernel='rbf', C=1.0, probability=True),\n",
    "    \"XGBoost\": XGBClassifier(use_label_encoder=False, eval_metric='mlogloss', max_depth=4, learning_rate=0.1)\n",
    "}\n",
    "\n",
    "# === Train and evaluate each model ===\n",
    "for name, model in models.items():\n",
    "    print(f\"\\n=== Training: {name} ===\")\n",
    "    model.fit(X_train, y_train)\n",
    "\n",
    "    # Evaluate on validation set\n",
    "    y_val_pred = model.predict(X_val)\n",
    "    acc = accuracy_score(y_val, y_val_pred)\n",
    "    print(f\"Validation Accuracy: {acc:.4f}\")\n",
    "    #print(\"Classification Report:\")\n",
    "    #print(classification_report(y_val, y_val_pred))"
   ]
  },
  {
   "cell_type": "code",
   "execution_count": 68,
   "metadata": {},
   "outputs": [
    {
     "name": "stdout",
     "output_type": "stream",
     "text": [
      "Train size: (871, 162) | Val size: (187, 162) | Test size: (187, 162)\n",
      "roberta\n",
      "0    721\n",
      "2    270\n",
      "1    254\n",
      "Name: count, dtype: int64\n",
      "\n",
      "=== Training: Logistic Regression ===\n"
     ]
    },
    {
     "name": "stderr",
     "output_type": "stream",
     "text": [
      "c:\\Users\\NA\\.conda\\envs\\eeg_study\\Lib\\site-packages\\sklearn\\linear_model\\_logistic.py:470: ConvergenceWarning: lbfgs failed to converge after 1000 iteration(s) (status=1):\n",
      "STOP: TOTAL NO. of ITERATIONS REACHED LIMIT\n",
      "\n",
      "Increase the number of iterations to improve the convergence (max_iter=1000).\n",
      "You might also want to scale the data as shown in:\n",
      "    https://scikit-learn.org/stable/modules/preprocessing.html\n",
      "Please also refer to the documentation for alternative solver options:\n",
      "    https://scikit-learn.org/stable/modules/linear_model.html#logistic-regression\n",
      "  n_iter_i = _check_optimize_result(\n",
      "c:\\Users\\NA\\.conda\\envs\\eeg_study\\Lib\\site-packages\\xgboost\\training.py:183: UserWarning: [14:07:49] WARNING: C:\\actions-runner\\_work\\xgboost\\xgboost\\src\\learner.cc:738: \n",
      "Parameters: { \"use_label_encoder\" } are not used.\n",
      "\n",
      "  bst.update(dtrain, iteration=i, fobj=obj)\n"
     ]
    },
    {
     "name": "stdout",
     "output_type": "stream",
     "text": [
      "Validation Accuracy: 0.5508\n",
      "\n",
      "=== Training: SVM (linear) ===\n",
      "Validation Accuracy: 0.5775\n",
      "\n",
      "=== Training: XGBoost ===\n",
      "Validation Accuracy: 0.5455\n"
     ]
    }
   ],
   "source": [
    "X = embedding_cardiff\n",
    "y = sentence_arr['roberta']\n",
    "\n",
    "X_train, X_temp, y_train, y_temp = train_test_split(X, y, test_size=0.30, random_state=42, stratify=y)\n",
    "X_val, X_test, y_val, y_test = train_test_split(X_temp, y_temp, test_size=0.50, random_state=42, stratify=y_temp)\n",
    "print(\"Train size:\", X_train.shape, \"| Val size:\", X_val.shape, \"| Test size:\", X_test.shape)\n",
    "print(y.value_counts())\n",
    "\n",
    "models = {\n",
    "    \"Logistic Regression\": LogisticRegression(max_iter=1000, C=1.0),\n",
    "    \"SVM (linear)\": SVC(kernel='rbf', C=1.0, probability=True),\n",
    "    \"XGBoost\": XGBClassifier(use_label_encoder=False, eval_metric='mlogloss', max_depth=4, learning_rate=0.1)\n",
    "}\n",
    "\n",
    "# === Train and evaluate each model ===\n",
    "for name, model in models.items():\n",
    "    print(f\"\\n=== Training: {name} ===\")\n",
    "    model.fit(X_train, y_train)\n",
    "\n",
    "    # Evaluate on validation set\n",
    "    y_val_pred = model.predict(X_val)\n",
    "    acc = accuracy_score(y_val, y_val_pred)\n",
    "    print(f\"Validation Accuracy: {acc:.4f}\")\n",
    "    #print(\"Classification Report:\")\n",
    "    #print(classification_report(y_val, y_val_pred))"
   ]
  },
  {
   "cell_type": "code",
   "execution_count": 69,
   "metadata": {},
   "outputs": [
    {
     "name": "stdout",
     "output_type": "stream",
     "text": [
      "Train size: (871, 162) | Val size: (187, 162) | Test size: (187, 162)\n",
      "textB\n",
      "0    786\n",
      "2    353\n",
      "1    106\n",
      "Name: count, dtype: int64\n",
      "\n",
      "=== Training: Logistic Regression ===\n"
     ]
    },
    {
     "name": "stderr",
     "output_type": "stream",
     "text": [
      "c:\\Users\\NA\\.conda\\envs\\eeg_study\\Lib\\site-packages\\sklearn\\linear_model\\_logistic.py:470: ConvergenceWarning: lbfgs failed to converge after 1000 iteration(s) (status=1):\n",
      "STOP: TOTAL NO. of ITERATIONS REACHED LIMIT\n",
      "\n",
      "Increase the number of iterations to improve the convergence (max_iter=1000).\n",
      "You might also want to scale the data as shown in:\n",
      "    https://scikit-learn.org/stable/modules/preprocessing.html\n",
      "Please also refer to the documentation for alternative solver options:\n",
      "    https://scikit-learn.org/stable/modules/linear_model.html#logistic-regression\n",
      "  n_iter_i = _check_optimize_result(\n",
      "c:\\Users\\NA\\.conda\\envs\\eeg_study\\Lib\\site-packages\\xgboost\\training.py:183: UserWarning: [14:07:57] WARNING: C:\\actions-runner\\_work\\xgboost\\xgboost\\src\\learner.cc:738: \n",
      "Parameters: { \"use_label_encoder\" } are not used.\n",
      "\n",
      "  bst.update(dtrain, iteration=i, fobj=obj)\n"
     ]
    },
    {
     "name": "stdout",
     "output_type": "stream",
     "text": [
      "Validation Accuracy: 0.6364\n",
      "\n",
      "=== Training: SVM (linear) ===\n",
      "Validation Accuracy: 0.6310\n",
      "\n",
      "=== Training: XGBoost ===\n",
      "Validation Accuracy: 0.6524\n"
     ]
    }
   ],
   "source": [
    "X = embedding_cardiff\n",
    "y = sentence_arr['textB']\n",
    "\n",
    "X_train, X_temp, y_train, y_temp = train_test_split(X, y, test_size=0.30, random_state=42, stratify=y)\n",
    "X_val, X_test, y_val, y_test = train_test_split(X_temp, y_temp, test_size=0.50, random_state=42, stratify=y_temp)\n",
    "print(\"Train size:\", X_train.shape, \"| Val size:\", X_val.shape, \"| Test size:\", X_test.shape)\n",
    "print(y.value_counts())\n",
    "\n",
    "models = {\n",
    "    \"Logistic Regression\": LogisticRegression(max_iter=1000, C=1.0),\n",
    "    \"SVM (linear)\": SVC(kernel='rbf', C=1.0, probability=True),\n",
    "    \"XGBoost\": XGBClassifier(use_label_encoder=False, eval_metric='mlogloss', max_depth=4, learning_rate=0.1)\n",
    "}\n",
    "\n",
    "# === Train and evaluate each model ===\n",
    "for name, model in models.items():\n",
    "    print(f\"\\n=== Training: {name} ===\")\n",
    "    model.fit(X_train, y_train)\n",
    "\n",
    "    # Evaluate on validation set\n",
    "    y_val_pred = model.predict(X_val)\n",
    "    acc = accuracy_score(y_val, y_val_pred)\n",
    "    print(f\"Validation Accuracy: {acc:.4f}\")\n",
    "    #print(\"Classification Report:\")\n",
    "    #print(classification_report(y_val, y_val_pred))"
   ]
  },
  {
   "cell_type": "markdown",
   "metadata": {},
   "source": [
    "### sentence embedding"
   ]
  },
  {
   "cell_type": "code",
   "execution_count": null,
   "metadata": {},
   "outputs": [
    {
     "name": "stdout",
     "output_type": "stream",
     "text": [
      "Train size: (871, 384) | Val size: (187, 384) | Test size: (187, 384)\n",
      "roberta\n",
      "0    721\n",
      "2    270\n",
      "1    254\n",
      "Name: count, dtype: int64\n",
      "\n",
      "=== Training: Logistic Regression ===\n",
      "Validation Accuracy: 0.6952\n",
      "\n",
      "=== Training: SVM (linear) ===\n",
      "Validation Accuracy: 0.6738\n",
      "\n",
      "=== Training: XGBoost ===\n"
     ]
    },
    {
     "name": "stderr",
     "output_type": "stream",
     "text": [
      "c:\\Users\\NA\\.conda\\envs\\eeg_study\\Lib\\site-packages\\xgboost\\training.py:183: UserWarning: [13:55:49] WARNING: C:\\actions-runner\\_work\\xgboost\\xgboost\\src\\learner.cc:738: \n",
      "Parameters: { \"use_label_encoder\" } are not used.\n",
      "\n",
      "  bst.update(dtrain, iteration=i, fobj=obj)\n"
     ]
    },
    {
     "name": "stdout",
     "output_type": "stream",
     "text": [
      "Validation Accuracy: 0.6684\n"
     ]
    }
   ],
   "source": [
    "X = embedding_miniLM\n",
    "y = sentence_arr['roberta']\n",
    "\n",
    "X_train, X_temp, y_train, y_temp = train_test_split(X, y, test_size=0.30, random_state=42, stratify=y)\n",
    "X_val, X_test, y_val, y_test = train_test_split(X_temp, y_temp, test_size=0.50, random_state=42, stratify=y_temp)\n",
    "print(\"Train size:\", X_train.shape, \"| Val size:\", X_val.shape, \"| Test size:\", X_test.shape)\n",
    "print(y.value_counts())\n",
    "\n",
    "models = {\n",
    "    \"Logistic Regression\": LogisticRegression(max_iter=1000, C=1.0),\n",
    "    \"SVM (linear)\": SVC(kernel='rbf', C=1.0, probability=True),\n",
    "    \"XGBoost\": XGBClassifier(use_label_encoder=False, eval_metric='mlogloss', max_depth=4, learning_rate=0.1)\n",
    "}\n",
    "\n",
    "# === Train and evaluate each model ===\n",
    "for name, model in models.items():\n",
    "    print(f\"\\n=== Training: {name} ===\")\n",
    "    model.fit(X_train, y_train)\n",
    "\n",
    "    # Evaluate on validation set\n",
    "    y_val_pred = model.predict(X_val)\n",
    "    acc = accuracy_score(y_val, y_val_pred)\n",
    "    print(f\"Validation Accuracy: {acc:.4f}\")\n",
    "    #print(\"Classification Report:\")\n",
    "    #print(classification_report(y_val, y_val_pred))"
   ]
  },
  {
   "cell_type": "code",
   "execution_count": null,
   "metadata": {},
   "outputs": [
    {
     "name": "stdout",
     "output_type": "stream",
     "text": [
      "Train size: (871, 384) | Val size: (187, 384) | Test size: (187, 384)\n",
      "vader\n",
      "0    527\n",
      "2    514\n",
      "1    204\n",
      "Name: count, dtype: int64\n",
      "\n",
      "=== Training: Logistic Regression ===\n",
      "Validation Accuracy: 0.7273\n",
      "\n",
      "=== Training: SVM (linear) ===\n",
      "Validation Accuracy: 0.7166\n",
      "\n",
      "=== Training: XGBoost ===\n"
     ]
    },
    {
     "name": "stderr",
     "output_type": "stream",
     "text": [
      "c:\\Users\\NA\\.conda\\envs\\eeg_study\\Lib\\site-packages\\xgboost\\training.py:183: UserWarning: [13:56:16] WARNING: C:\\actions-runner\\_work\\xgboost\\xgboost\\src\\learner.cc:738: \n",
      "Parameters: { \"use_label_encoder\" } are not used.\n",
      "\n",
      "  bst.update(dtrain, iteration=i, fobj=obj)\n"
     ]
    },
    {
     "name": "stdout",
     "output_type": "stream",
     "text": [
      "Validation Accuracy: 0.7219\n"
     ]
    }
   ],
   "source": [
    "X = embedding_miniLM\n",
    "y = sentence_arr['vader']\n",
    "\n",
    "X_train, X_temp, y_train, y_temp = train_test_split(X, y, test_size=0.30, random_state=42, stratify=y)\n",
    "X_val, X_test, y_val, y_test = train_test_split(X_temp, y_temp, test_size=0.50, random_state=42, stratify=y_temp)\n",
    "print(\"Train size:\", X_train.shape, \"| Val size:\", X_val.shape, \"| Test size:\", X_test.shape)\n",
    "print(y.value_counts())\n",
    "\n",
    "models = {\n",
    "    \"Logistic Regression\": LogisticRegression(max_iter=1000, C=1.0),\n",
    "    \"SVM (linear)\": SVC(kernel='rbf', C=1.0, probability=True),\n",
    "    \"XGBoost\": XGBClassifier(use_label_encoder=False, eval_metric='mlogloss', max_depth=4, learning_rate=0.1)\n",
    "}\n",
    "\n",
    "# === Train and evaluate each model ===\n",
    "for name, model in models.items():\n",
    "    print(f\"\\n=== Training: {name} ===\")\n",
    "    model.fit(X_train, y_train)\n",
    "\n",
    "    # Evaluate on validation set\n",
    "    y_val_pred = model.predict(X_val)\n",
    "    acc = accuracy_score(y_val, y_val_pred)\n",
    "    print(f\"Validation Accuracy: {acc:.4f}\")\n",
    "    #print(\"Classification Report:\")\n",
    "    #print(classification_report(y_val, y_val_pred))"
   ]
  },
  {
   "cell_type": "code",
   "execution_count": null,
   "metadata": {},
   "outputs": [
    {
     "name": "stdout",
     "output_type": "stream",
     "text": [
      "Train size: (871, 384) | Val size: (187, 384) | Test size: (187, 384)\n",
      "textB\n",
      "0    786\n",
      "2    353\n",
      "1    106\n",
      "Name: count, dtype: int64\n",
      "\n",
      "=== Training: Logistic Regression ===\n",
      "Validation Accuracy: 0.7487\n",
      "\n",
      "=== Training: SVM (linear) ===\n",
      "Validation Accuracy: 0.7701\n",
      "\n",
      "=== Training: XGBoost ===\n"
     ]
    },
    {
     "name": "stderr",
     "output_type": "stream",
     "text": [
      "c:\\Users\\NA\\.conda\\envs\\eeg_study\\Lib\\site-packages\\xgboost\\training.py:183: UserWarning: [14:06:23] WARNING: C:\\actions-runner\\_work\\xgboost\\xgboost\\src\\learner.cc:738: \n",
      "Parameters: { \"use_label_encoder\" } are not used.\n",
      "\n",
      "  bst.update(dtrain, iteration=i, fobj=obj)\n"
     ]
    },
    {
     "name": "stdout",
     "output_type": "stream",
     "text": [
      "Validation Accuracy: 0.7380\n"
     ]
    }
   ],
   "source": [
    "X = embedding_miniLM\n",
    "y = sentence_arr['textB']\n",
    "\n",
    "X_train, X_temp, y_train, y_temp = train_test_split(X, y, test_size=0.30, random_state=42, stratify=y)\n",
    "X_val, X_test, y_val, y_test = train_test_split(X_temp, y_temp, test_size=0.50, random_state=42, stratify=y_temp)\n",
    "print(\"Train size:\", X_train.shape, \"| Val size:\", X_val.shape, \"| Test size:\", X_test.shape)\n",
    "print(y.value_counts())\n",
    "\n",
    "models = {\n",
    "    \"Logistic Regression\": LogisticRegression(max_iter=1000, C=1.0),\n",
    "    \"SVM (linear)\": SVC(kernel='rbf', C=1.0, probability=True),\n",
    "    \"XGBoost\": XGBClassifier(use_label_encoder=False, eval_metric='mlogloss', max_depth=4, learning_rate=0.1)\n",
    "}\n",
    "\n",
    "# === Train and evaluate each model ===\n",
    "for name, model in models.items():\n",
    "    print(f\"\\n=== Training: {name} ===\")\n",
    "    model.fit(X_train, y_train)\n",
    "\n",
    "    # Evaluate on validation set\n",
    "    y_val_pred = model.predict(X_val)\n",
    "    acc = accuracy_score(y_val, y_val_pred)\n",
    "    print(f\"Validation Accuracy: {acc:.4f}\")\n",
    "    #print(\"Classification Report:\")\n",
    "    #print(classification_report(y_val, y_val_pred))"
   ]
  },
  {
   "cell_type": "markdown",
   "metadata": {},
   "source": [
    "### Sentence transformer mpnet"
   ]
  },
  {
   "cell_type": "code",
   "execution_count": 78,
   "metadata": {},
   "outputs": [
    {
     "name": "stdout",
     "output_type": "stream",
     "text": [
      "Train size: (871, 768) | Val size: (187, 768) | Test size: (187, 768)\n",
      "roberta\n",
      "0    721\n",
      "2    270\n",
      "1    254\n",
      "Name: count, dtype: int64\n",
      "\n",
      "=== Training: Logistic Regression ===\n",
      "Validation Accuracy: 0.7112\n",
      "\n",
      "=== Training: SVM (linear) ===\n",
      "Validation Accuracy: 0.7059\n",
      "\n",
      "=== Training: XGBoost ===\n"
     ]
    },
    {
     "name": "stderr",
     "output_type": "stream",
     "text": [
      "c:\\Users\\NA\\.conda\\envs\\eeg_study\\Lib\\site-packages\\xgboost\\training.py:183: UserWarning: [17:07:20] WARNING: C:\\actions-runner\\_work\\xgboost\\xgboost\\src\\learner.cc:738: \n",
      "Parameters: { \"use_label_encoder\" } are not used.\n",
      "\n",
      "  bst.update(dtrain, iteration=i, fobj=obj)\n"
     ]
    },
    {
     "name": "stdout",
     "output_type": "stream",
     "text": [
      "Validation Accuracy: 0.6898\n"
     ]
    }
   ],
   "source": [
    "X = embedding_mpnet\n",
    "y = sentence_arr['roberta']\n",
    "\n",
    "X_train, X_temp, y_train, y_temp = train_test_split(X, y, test_size=0.30, random_state=42, stratify=y)\n",
    "X_val, X_test, y_val, y_test = train_test_split(X_temp, y_temp, test_size=0.50, random_state=42, stratify=y_temp)\n",
    "print(\"Train size:\", X_train.shape, \"| Val size:\", X_val.shape, \"| Test size:\", X_test.shape)\n",
    "print(y.value_counts())\n",
    "\n",
    "models = {\n",
    "    \"Logistic Regression\": LogisticRegression(max_iter=1000, C=1.0),\n",
    "    \"SVM (linear)\": SVC(kernel='rbf', C=1.0, probability=True),\n",
    "    \"XGBoost\": XGBClassifier(use_label_encoder=False, eval_metric='mlogloss', max_depth=4, learning_rate=0.1)\n",
    "}\n",
    "\n",
    "# === Train and evaluate each model ===\n",
    "for name, model in models.items():\n",
    "    print(f\"\\n=== Training: {name} ===\")\n",
    "    model.fit(X_train, y_train)\n",
    "\n",
    "    # Evaluate on validation set\n",
    "    y_val_pred = model.predict(X_val)\n",
    "    acc = accuracy_score(y_val, y_val_pred)\n",
    "    print(f\"Validation Accuracy: {acc:.4f}\")\n",
    "    #print(\"Classification Report:\")\n",
    "    #print(classification_report(y_val, y_val_pred))"
   ]
  },
  {
   "cell_type": "code",
   "execution_count": 79,
   "metadata": {},
   "outputs": [
    {
     "name": "stdout",
     "output_type": "stream",
     "text": [
      "Train size: (871, 768) | Val size: (187, 768) | Test size: (187, 768)\n",
      "vader\n",
      "0    527\n",
      "2    514\n",
      "1    204\n",
      "Name: count, dtype: int64\n",
      "\n",
      "=== Training: Logistic Regression ===\n",
      "Validation Accuracy: 0.7166\n",
      "\n",
      "=== Training: SVM (linear) ===\n",
      "Validation Accuracy: 0.7005\n",
      "\n",
      "=== Training: XGBoost ===\n"
     ]
    },
    {
     "name": "stderr",
     "output_type": "stream",
     "text": [
      "c:\\Users\\NA\\.conda\\envs\\eeg_study\\Lib\\site-packages\\xgboost\\training.py:183: UserWarning: [17:07:22] WARNING: C:\\actions-runner\\_work\\xgboost\\xgboost\\src\\learner.cc:738: \n",
      "Parameters: { \"use_label_encoder\" } are not used.\n",
      "\n",
      "  bst.update(dtrain, iteration=i, fobj=obj)\n"
     ]
    },
    {
     "name": "stdout",
     "output_type": "stream",
     "text": [
      "Validation Accuracy: 0.6471\n"
     ]
    }
   ],
   "source": [
    "X = embedding_mpnet\n",
    "y = sentence_arr['vader']\n",
    "\n",
    "X_train, X_temp, y_train, y_temp = train_test_split(X, y, test_size=0.30, random_state=42, stratify=y)\n",
    "X_val, X_test, y_val, y_test = train_test_split(X_temp, y_temp, test_size=0.50, random_state=42, stratify=y_temp)\n",
    "print(\"Train size:\", X_train.shape, \"| Val size:\", X_val.shape, \"| Test size:\", X_test.shape)\n",
    "print(y.value_counts())\n",
    "\n",
    "models = {\n",
    "    \"Logistic Regression\": LogisticRegression(max_iter=1000, C=1.0),\n",
    "    \"SVM (linear)\": SVC(kernel='rbf', C=1.0, probability=True),\n",
    "    \"XGBoost\": XGBClassifier(use_label_encoder=False, eval_metric='mlogloss', max_depth=4, learning_rate=0.1)\n",
    "}\n",
    "\n",
    "# === Train and evaluate each model ===\n",
    "for name, model in models.items():\n",
    "    print(f\"\\n=== Training: {name} ===\")\n",
    "    model.fit(X_train, y_train)\n",
    "\n",
    "    # Evaluate on validation set\n",
    "    y_val_pred = model.predict(X_val)\n",
    "    acc = accuracy_score(y_val, y_val_pred)\n",
    "    print(f\"Validation Accuracy: {acc:.4f}\")\n",
    "    #print(\"Classification Report:\")\n",
    "    #print(classification_report(y_val, y_val_pred))"
   ]
  },
  {
   "cell_type": "code",
   "execution_count": null,
   "metadata": {},
   "outputs": [
    {
     "name": "stdout",
     "output_type": "stream",
     "text": [
      "Train size: (871, 768) | Val size: (187, 768) | Test size: (187, 768)\n",
      "textB\n",
      "0    786\n",
      "2    353\n",
      "1    106\n",
      "Name: count, dtype: int64\n",
      "\n",
      "=== Training: Logistic Regression ===\n",
      "Validation Accuracy: 0.7380\n",
      "\n",
      "=== Training: SVM (linear) ===\n",
      "Validation Accuracy: 0.7594\n",
      "\n",
      "=== Training: XGBoost ===\n"
     ]
    },
    {
     "name": "stderr",
     "output_type": "stream",
     "text": [
      "c:\\Users\\NA\\.conda\\envs\\eeg_study\\Lib\\site-packages\\xgboost\\training.py:183: UserWarning: [17:07:25] WARNING: C:\\actions-runner\\_work\\xgboost\\xgboost\\src\\learner.cc:738: \n",
      "Parameters: { \"use_label_encoder\" } are not used.\n",
      "\n",
      "  bst.update(dtrain, iteration=i, fobj=obj)\n"
     ]
    },
    {
     "name": "stdout",
     "output_type": "stream",
     "text": [
      "Validation Accuracy: 0.7112\n"
     ]
    }
   ],
   "source": [
    "X = embedding_mpnet\n",
    "y = sentence_arr['textB']\n",
    "\n",
    "X_train, X_temp, y_train, y_temp = train_test_split(X, y, test_size=0.30, random_state=42, stratify=y)\n",
    "X_val, X_test, y_val, y_test = train_test_split(X_temp, y_temp, test_size=0.50, random_state=42, stratify=y_temp)\n",
    "print(\"Train size:\", X_train.shape, \"| Val size:\", X_val.shape, \"| Test size:\", X_test.shape)\n",
    "print(y.value_counts())\n",
    "\n",
    "models = {\n",
    "    \"Logistic Regression\": LogisticRegression(max_iter=1000, C=1.0),\n",
    "    \"SVM (linear)\": SVC(kernel='rbf', C=1.0, probability=True),\n",
    "    \"XGBoost\": XGBClassifier(use_label_encoder=False, eval_metric='mlogloss', max_depth=4, learning_rate=0.1)\n",
    "}\n",
    "\n",
    "# === Train and evaluate each model ===\n",
    "for name, model in models.items():\n",
    "    print(f\"\\n=== Training: {name} ===\")\n",
    "    model.fit(X_train, y_train)\n",
    "\n",
    "    # Evaluate on validation set\n",
    "    y_val_pred = model.predict(X_val)\n",
    "    acc = accuracy_score(y_val, y_val_pred)\n",
    "    print(f\"Validation Accuracy: {acc:.4f}\")\n",
    "    #print(\"Classification Report:\")\n",
    "    #print(classification_report(y_val, y_val_pred))"
   ]
  },
  {
   "cell_type": "markdown",
   "metadata": {},
   "source": [
    "### Sentence transformer fine-tunedsst\n",
    "currently perform the best for all"
   ]
  },
  {
   "cell_type": "code",
   "execution_count": 90,
   "metadata": {},
   "outputs": [
    {
     "name": "stdout",
     "output_type": "stream",
     "text": [
      "Train size: (871, 768) | Val size: (187, 768) | Test size: (187, 768)\n",
      "roberta\n",
      "0    721\n",
      "2    270\n",
      "1    254\n",
      "Name: count, dtype: int64\n",
      "\n",
      "=== Training: Logistic Regression ===\n",
      "Validation Accuracy: 0.7594\n",
      "\n",
      "=== Training: SVM (linear) ===\n",
      "Validation Accuracy: 0.7273\n",
      "\n",
      "=== Training: XGBoost ===\n"
     ]
    },
    {
     "name": "stderr",
     "output_type": "stream",
     "text": [
      "c:\\Users\\NA\\.conda\\envs\\eeg_study\\Lib\\site-packages\\xgboost\\training.py:183: UserWarning: [22:20:15] WARNING: C:\\actions-runner\\_work\\xgboost\\xgboost\\src\\learner.cc:738: \n",
      "Parameters: { \"use_label_encoder\" } are not used.\n",
      "\n",
      "  bst.update(dtrain, iteration=i, fobj=obj)\n"
     ]
    },
    {
     "name": "stdout",
     "output_type": "stream",
     "text": [
      "Validation Accuracy: 0.7594\n"
     ]
    }
   ],
   "source": [
    "X = embedding_sst\n",
    "y = sentence_arr['roberta']\n",
    "\n",
    "X_train, X_temp, y_train, y_temp = train_test_split(X, y, test_size=0.30, random_state=42, stratify=y)\n",
    "X_val, X_test, y_val, y_test = train_test_split(X_temp, y_temp, test_size=0.50, random_state=42, stratify=y_temp)\n",
    "print(\"Train size:\", X_train.shape, \"| Val size:\", X_val.shape, \"| Test size:\", X_test.shape)\n",
    "print(y.value_counts())\n",
    "\n",
    "models = {\n",
    "    \"Logistic Regression\": LogisticRegression(max_iter=1000, C=1.0),\n",
    "    \"SVM (linear)\": SVC(kernel='rbf', C=1.0, probability=True),\n",
    "    \"XGBoost\": XGBClassifier(use_label_encoder=False, eval_metric='mlogloss', max_depth=4, learning_rate=0.1)\n",
    "}\n",
    "\n",
    "# === Train and evaluate each model ===\n",
    "for name, model in models.items():\n",
    "    print(f\"\\n=== Training: {name} ===\")\n",
    "    model.fit(X_train, y_train)\n",
    "\n",
    "    # Evaluate on validation set\n",
    "    y_val_pred = model.predict(X_val)\n",
    "    acc = accuracy_score(y_val, y_val_pred)\n",
    "    print(f\"Validation Accuracy: {acc:.4f}\")\n",
    "    #print(\"Classification Report:\")\n",
    "    #print(classification_report(y_val, y_val_pred))"
   ]
  },
  {
   "cell_type": "code",
   "execution_count": 91,
   "metadata": {},
   "outputs": [
    {
     "name": "stdout",
     "output_type": "stream",
     "text": [
      "Train size: (871, 768) | Val size: (187, 768) | Test size: (187, 768)\n",
      "vader\n",
      "0    527\n",
      "2    514\n",
      "1    204\n",
      "Name: count, dtype: int64\n",
      "\n",
      "=== Training: Logistic Regression ===\n",
      "Validation Accuracy: 0.7166\n",
      "\n",
      "=== Training: SVM (linear) ===\n",
      "Validation Accuracy: 0.7112\n",
      "\n",
      "=== Training: XGBoost ===\n"
     ]
    },
    {
     "name": "stderr",
     "output_type": "stream",
     "text": [
      "c:\\Users\\NA\\.conda\\envs\\eeg_study\\Lib\\site-packages\\xgboost\\training.py:183: UserWarning: [22:20:23] WARNING: C:\\actions-runner\\_work\\xgboost\\xgboost\\src\\learner.cc:738: \n",
      "Parameters: { \"use_label_encoder\" } are not used.\n",
      "\n",
      "  bst.update(dtrain, iteration=i, fobj=obj)\n"
     ]
    },
    {
     "name": "stdout",
     "output_type": "stream",
     "text": [
      "Validation Accuracy: 0.7273\n"
     ]
    }
   ],
   "source": [
    "X = embedding_sst\n",
    "y = sentence_arr['vader']\n",
    "\n",
    "X_train, X_temp, y_train, y_temp = train_test_split(X, y, test_size=0.30, random_state=42, stratify=y)\n",
    "X_val, X_test, y_val, y_test = train_test_split(X_temp, y_temp, test_size=0.50, random_state=42, stratify=y_temp)\n",
    "print(\"Train size:\", X_train.shape, \"| Val size:\", X_val.shape, \"| Test size:\", X_test.shape)\n",
    "print(y.value_counts())\n",
    "\n",
    "models = {\n",
    "    \"Logistic Regression\": LogisticRegression(max_iter=1000, C=1.0),\n",
    "    \"SVM (linear)\": SVC(kernel='rbf', C=1.0, probability=True),\n",
    "    \"XGBoost\": XGBClassifier(use_label_encoder=False, eval_metric='mlogloss', max_depth=4, learning_rate=0.1)\n",
    "}\n",
    "\n",
    "# === Train and evaluate each model ===\n",
    "for name, model in models.items():\n",
    "    print(f\"\\n=== Training: {name} ===\")\n",
    "    model.fit(X_train, y_train)\n",
    "\n",
    "    # Evaluate on validation set\n",
    "    y_val_pred = model.predict(X_val)\n",
    "    acc = accuracy_score(y_val, y_val_pred)\n",
    "    print(f\"Validation Accuracy: {acc:.4f}\")\n",
    "    #print(\"Classification Report:\")\n",
    "    #print(classification_report(y_val, y_val_pred))"
   ]
  },
  {
   "cell_type": "code",
   "execution_count": 92,
   "metadata": {},
   "outputs": [
    {
     "name": "stdout",
     "output_type": "stream",
     "text": [
      "Train size: (871, 768) | Val size: (187, 768) | Test size: (187, 768)\n",
      "textB\n",
      "0    786\n",
      "2    353\n",
      "1    106\n",
      "Name: count, dtype: int64\n",
      "\n",
      "=== Training: Logistic Regression ===\n",
      "Validation Accuracy: 0.7594\n",
      "\n",
      "=== Training: SVM (linear) ===\n",
      "Validation Accuracy: 0.7059\n",
      "\n",
      "=== Training: XGBoost ===\n"
     ]
    },
    {
     "name": "stderr",
     "output_type": "stream",
     "text": [
      "c:\\Users\\NA\\.conda\\envs\\eeg_study\\Lib\\site-packages\\xgboost\\training.py:183: UserWarning: [22:20:27] WARNING: C:\\actions-runner\\_work\\xgboost\\xgboost\\src\\learner.cc:738: \n",
      "Parameters: { \"use_label_encoder\" } are not used.\n",
      "\n",
      "  bst.update(dtrain, iteration=i, fobj=obj)\n"
     ]
    },
    {
     "name": "stdout",
     "output_type": "stream",
     "text": [
      "Validation Accuracy: 0.7487\n"
     ]
    }
   ],
   "source": [
    "X = embedding_sst\n",
    "y = sentence_arr['textB']\n",
    "\n",
    "X_train, X_temp, y_train, y_temp = train_test_split(X, y, test_size=0.30, random_state=42, stratify=y)\n",
    "X_val, X_test, y_val, y_test = train_test_split(X_temp, y_temp, test_size=0.50, random_state=42, stratify=y_temp)\n",
    "print(\"Train size:\", X_train.shape, \"| Val size:\", X_val.shape, \"| Test size:\", X_test.shape)\n",
    "print(y.value_counts())\n",
    "\n",
    "models = {\n",
    "    \"Logistic Regression\": LogisticRegression(max_iter=1000, C=1.0),\n",
    "    \"SVM (linear)\": SVC(kernel='rbf', C=1.0, probability=True),\n",
    "    \"XGBoost\": XGBClassifier(use_label_encoder=False, eval_metric='mlogloss', max_depth=4, learning_rate=0.1)\n",
    "}\n",
    "\n",
    "# === Train and evaluate each model ===\n",
    "for name, model in models.items():\n",
    "    print(f\"\\n=== Training: {name} ===\")\n",
    "    model.fit(X_train, y_train)\n",
    "\n",
    "    # Evaluate on validation set\n",
    "    y_val_pred = model.predict(X_val)\n",
    "    acc = accuracy_score(y_val, y_val_pred)\n",
    "    print(f\"Validation Accuracy: {acc:.4f}\")\n",
    "    #print(\"Classification Report:\")\n",
    "    #print(classification_report(y_val, y_val_pred))"
   ]
  },
  {
   "cell_type": "markdown",
   "metadata": {},
   "source": [
    "### use the sentiment score"
   ]
  },
  {
   "cell_type": "code",
   "execution_count": 386,
   "metadata": {},
   "outputs": [
    {
     "name": "stdout",
     "output_type": "stream",
     "text": [
      "Train size: (871, 3) | Val size: (187, 3) | Test size: (187, 3)\n",
      "roberta\n",
      "0    721\n",
      "2    270\n",
      "1    254\n",
      "Name: count, dtype: int64\n",
      "\n",
      "=== Training: Logistic Regression ===\n",
      "Validation Accuracy: 0.9893\n",
      "\n",
      "=== Training: SVM (linear) ===\n",
      "Validation Accuracy: 0.9786\n",
      "\n",
      "=== Training: XGBoost ===\n",
      "Validation Accuracy: 0.9786\n"
     ]
    },
    {
     "name": "stderr",
     "output_type": "stream",
     "text": [
      "c:\\Users\\NA\\.conda\\envs\\eeg_study\\Lib\\site-packages\\xgboost\\training.py:183: UserWarning: [00:17:42] WARNING: C:\\actions-runner\\_work\\xgboost\\xgboost\\src\\learner.cc:738: \n",
      "Parameters: { \"use_label_encoder\" } are not used.\n",
      "\n",
      "  bst.update(dtrain, iteration=i, fobj=obj)\n"
     ]
    }
   ],
   "source": [
    "X = score_roberta.iloc[:,:-1]\n",
    "y = sentence_arr['roberta']\n",
    "\n",
    "X_train, X_temp, y_train, y_temp = train_test_split(X, y, test_size=0.30, random_state=42, stratify=y)\n",
    "X_val, X_test, y_val, y_test = train_test_split(X_temp, y_temp, test_size=0.50, random_state=42, stratify=y_temp)\n",
    "print(\"Train size:\", X_train.shape, \"| Val size:\", X_val.shape, \"| Test size:\", X_test.shape)\n",
    "print(y.value_counts())\n",
    "\n",
    "models = {\n",
    "    \"Logistic Regression\": LogisticRegression(max_iter=1000, C=1.0),\n",
    "    \"SVM (linear)\": SVC(kernel='rbf', C=1.0, probability=True),\n",
    "    \"XGBoost\": XGBClassifier(use_label_encoder=False, eval_metric='mlogloss', max_depth=4, learning_rate=0.1)\n",
    "}\n",
    "\n",
    "# === Train and evaluate each model ===\n",
    "for name, model in models.items():\n",
    "    print(f\"\\n=== Training: {name} ===\")\n",
    "    model.fit(X_train, y_train)\n",
    "\n",
    "    # Evaluate on validation set\n",
    "    y_val_pred = model.predict(X_val)\n",
    "    acc = accuracy_score(y_val, y_val_pred)\n",
    "    print(f\"Validation Accuracy: {acc:.4f}\")\n",
    "    #print(\"Classification Report:\")\n",
    "    #print(classification_report(y_val, y_val_pred))"
   ]
  },
  {
   "cell_type": "code",
   "execution_count": 405,
   "metadata": {},
   "outputs": [
    {
     "data": {
      "text/plain": [
       "(1245, 1)"
      ]
     },
     "execution_count": 405,
     "metadata": {},
     "output_type": "execute_result"
    }
   ],
   "source": [
    "np.expand_dims(score_vader.iloc[:,3],axis = 1).shape"
   ]
  },
  {
   "cell_type": "code",
   "execution_count": 406,
   "metadata": {},
   "outputs": [
    {
     "name": "stdout",
     "output_type": "stream",
     "text": [
      "Train size: (871, 1) | Val size: (187, 1) | Test size: (187, 1)\n",
      "vader\n",
      "0    527\n",
      "2    514\n",
      "1    204\n",
      "Name: count, dtype: int64\n",
      "\n",
      "=== Training: Logistic Regression ===\n",
      "Validation Accuracy: 0.9572\n",
      "\n",
      "=== Training: SVM (linear) ===\n",
      "Validation Accuracy: 0.9947\n",
      "\n",
      "=== Training: XGBoost ===\n",
      "Validation Accuracy: 1.0000\n"
     ]
    },
    {
     "name": "stderr",
     "output_type": "stream",
     "text": [
      "c:\\Users\\NA\\.conda\\envs\\eeg_study\\Lib\\site-packages\\xgboost\\training.py:183: UserWarning: [00:22:05] WARNING: C:\\actions-runner\\_work\\xgboost\\xgboost\\src\\learner.cc:738: \n",
      "Parameters: { \"use_label_encoder\" } are not used.\n",
      "\n",
      "  bst.update(dtrain, iteration=i, fobj=obj)\n"
     ]
    }
   ],
   "source": [
    "X = np.expand_dims(score_vader.iloc[:,3],axis = 1)\n",
    "y = sentence_arr['vader']\n",
    "\n",
    "X_train, X_temp, y_train, y_temp = train_test_split(X, y, test_size=0.30, random_state=42, stratify=y)\n",
    "X_val, X_test, y_val, y_test = train_test_split(X_temp, y_temp, test_size=0.50, random_state=42, stratify=y_temp)\n",
    "print(\"Train size:\", X_train.shape, \"| Val size:\", X_val.shape, \"| Test size:\", X_test.shape)\n",
    "print(y.value_counts())\n",
    "\n",
    "models = {\n",
    "    \"Logistic Regression\": LogisticRegression(max_iter=1000, C=1.0),\n",
    "    \"SVM (linear)\": SVC(kernel='rbf', C=1.0, probability=True),\n",
    "    \"XGBoost\": XGBClassifier(use_label_encoder=False, eval_metric='mlogloss', max_depth=4, learning_rate=0.1)\n",
    "}\n",
    "\n",
    "# === Train and evaluate each model ===\n",
    "for name, model in models.items():\n",
    "    print(f\"\\n=== Training: {name} ===\")\n",
    "    model.fit(X_train, y_train)\n",
    "\n",
    "    # Evaluate on validation set\n",
    "    y_val_pred = model.predict(X_val)\n",
    "    acc = accuracy_score(y_val, y_val_pred)\n",
    "    print(f\"Validation Accuracy: {acc:.4f}\")\n",
    "    #print(\"Classification Report:\")\n",
    "    #print(classification_report(y_val, y_val_pred))"
   ]
  },
  {
   "cell_type": "markdown",
   "metadata": {},
   "source": []
  }
 ],
 "metadata": {
  "kernelspec": {
   "display_name": "eeg_study",
   "language": "python",
   "name": "python3"
  },
  "language_info": {
   "codemirror_mode": {
    "name": "ipython",
    "version": 3
   },
   "file_extension": ".py",
   "mimetype": "text/x-python",
   "name": "python",
   "nbconvert_exporter": "python",
   "pygments_lexer": "ipython3",
   "version": "3.11.13"
  }
 },
 "nbformat": 4,
 "nbformat_minor": 2
}
